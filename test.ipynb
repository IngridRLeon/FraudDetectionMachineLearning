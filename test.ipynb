{
 "cells": [
  {
   "cell_type": "code",
   "execution_count": 1,
   "metadata": {},
   "outputs": [],
   "source": [
    "from pyspark.sql import SparkSession\n",
    "from pyspark.sql.functions import monotonically_increasing_id\n",
    "from pyspark.sql.functions import col\n",
    "from pyspark.sql.functions import format_number\n",
    "\n",
    "from pyspark.sql.functions import round"
   ]
  },
  {
   "cell_type": "markdown",
   "metadata": {},
   "source": [
    "## SPARK SESSION"
   ]
  },
  {
   "cell_type": "code",
   "execution_count": 2,
   "metadata": {},
   "outputs": [],
   "source": [
    "spark = SparkSession.builder.appName(\"sparkhive\").enableHiveSupport().getOrCreate()"
   ]
  },
  {
   "cell_type": "markdown",
   "metadata": {},
   "source": [
    "## Data Extraction from Hive"
   ]
  },
  {
   "cell_type": "code",
   "execution_count": 6,
   "metadata": {},
   "outputs": [],
   "source": [
    "df = spark.sql(\"SELECT * FROM fraud_project.fraud_full_load_external\")"
   ]
  },
  {
   "cell_type": "code",
   "execution_count": 7,
   "metadata": {},
   "outputs": [],
   "source": [
    "#Adding an incremental id to keep tranck of the transactions\n",
    "df = df.withColumn(\"id\", monotonically_increasing_id())"
   ]
  },
  {
   "cell_type": "code",
   "execution_count": 8,
   "metadata": {},
   "outputs": [
    {
     "name": "stdout",
     "output_type": "stream",
     "text": [
      "+---+----------------+---------+-------------+--------------+--------------+--------------+-------+\n",
      "| id|transaction_type|   amount|oldbalanceorg|newbalanceorig|oldbalancedest|newbalancedest|isfraud|\n",
      "+---+----------------+---------+-------------+--------------+--------------+--------------+-------+\n",
      "|  0|            type|   amount|oldbalanceOrg|newbalanceOrig|oldbalanceDest|newbalanceDest|isFraud|\n",
      "|  1|         PAYMENT|  9839.64|     170136.0|     160296.36|           0.0|           0.0|      0|\n",
      "|  2|         PAYMENT|  1864.28|      21249.0|      19384.72|           0.0|           0.0|      0|\n",
      "|  3|        TRANSFER|    181.0|        181.0|           0.0|           0.0|           0.0|      1|\n",
      "|  4|        CASH_OUT|    181.0|        181.0|           0.0|       21182.0|           0.0|      1|\n",
      "|  5|         PAYMENT| 11668.14|      41554.0|      29885.86|           0.0|           0.0|      0|\n",
      "|  6|         PAYMENT|  7817.71|      53860.0|      46042.29|           0.0|           0.0|      0|\n",
      "|  7|         PAYMENT|  7107.77|     183195.0|     176087.23|           0.0|           0.0|      0|\n",
      "|  8|         PAYMENT|  7861.64|    176087.23|     168225.59|           0.0|           0.0|      0|\n",
      "|  9|         PAYMENT|  4024.36|       2671.0|           0.0|           0.0|           0.0|      0|\n",
      "| 10|           DEBIT|  5337.77|      41720.0|      36382.23|       41898.0|      40348.79|      0|\n",
      "| 11|           DEBIT|  9644.94|       4465.0|           0.0|       10845.0|     157982.12|      0|\n",
      "| 12|         PAYMENT|  3099.97|      20771.0|      17671.03|           0.0|           0.0|      0|\n",
      "| 13|         PAYMENT|  2560.74|       5070.0|       2509.26|           0.0|           0.0|      0|\n",
      "| 14|         PAYMENT| 11633.76|      10127.0|           0.0|           0.0|           0.0|      0|\n",
      "| 15|         PAYMENT|  4098.78|     503264.0|     499165.22|           0.0|           0.0|      0|\n",
      "| 16|        CASH_OUT|229133.94|      15325.0|           0.0|        5083.0|      51513.44|      0|\n",
      "| 17|         PAYMENT|  1563.82|        450.0|           0.0|           0.0|           0.0|      0|\n",
      "| 18|         PAYMENT|  1157.86|      21156.0|      19998.14|           0.0|           0.0|      0|\n",
      "| 19|         PAYMENT|   671.64|      15123.0|      14451.36|           0.0|           0.0|      0|\n",
      "+---+----------------+---------+-------------+--------------+--------------+--------------+-------+\n",
      "only showing top 20 rows\n",
      "\n"
     ]
    }
   ],
   "source": [
    "#Visualizing the features that we will be using in our model\n",
    "selected_columns = [\"id\",\"transaction_type\",\"amount\", \"oldbalanceorg\", \"newbalanceorig\", \"oldbalancedest\", \"newbalancedest\", \"isfraud\"]\n",
    "selected_df = df.select(*selected_columns)\n",
    "selected_df.show()"
   ]
  },
  {
   "cell_type": "code",
   "execution_count": null,
   "metadata": {},
   "outputs": [],
   "source": [
    "#num_columns = len(df.columns)\n"
   ]
  },
  {
   "cell_type": "markdown",
   "metadata": {},
   "source": [
    "## Exploratory Data Analysis (EDA)"
   ]
  },
  {
   "cell_type": "markdown",
   "metadata": {},
   "source": [
    "#Statistical Analysis\n",
    "#Plot some feature distributions\n",
    "#Correlation Matrix"
   ]
  },
  {
   "cell_type": "code",
   "execution_count": 9,
   "metadata": {},
   "outputs": [
    {
     "name": "stdout",
     "output_type": "stream",
     "text": [
      "+-------+---------+-------------+--------------+--------------+--------------+\n",
      "|summary|   amount|oldbalanceorg|newbalanceorig|oldbalancedest|newbalancedest|\n",
      "+-------+---------+-------------+--------------+--------------+--------------+\n",
      "|  count|  5,070.0|      5,070.0|       5,070.0|       5,070.0|       5,070.0|\n",
      "|   mean| 96,491.7|  1,024,118.8|   1,049,475.2|     906,199.2|   1,050,553.7|\n",
      "| stddev|225,373.4|  2,279,156.8|   2,330,085.8|   2,526,749.8|   2,903,139.7|\n",
      "|    min| 10,006.7|          0.0|           0.0|           0.0|           0.0|\n",
      "|    25%|  3,719.9|        574.0|           0.0|           0.0|           0.0|\n",
      "|    50%| 10,728.8|     26,165.3|      17,790.1|           0.0|           0.0|\n",
      "|    75%|107,292.2|    281,826.4|     281,759.5|     353,797.3|     265,092.4|\n",
      "|    max|     null|         null|          null|          null|          null|\n",
      "+-------+---------+-------------+--------------+--------------+--------------+\n",
      "\n"
     ]
    }
   ],
   "source": [
    "#Dropping the columns that we won't be using\n",
    "columns_to_drop=[\"step\", \"nameOrig\", \"nameDest\", \"isFlaggedFraud\", \"row_id\", \"id\"]\n",
    "df_new=df.drop(*columns_to_drop)\n",
    "#df_new.show()\n",
    "\n",
    "# Specify the value you want to filter out\n",
    "value_to_remove = \"1.0E7\" \n",
    "\n",
    "# Remove rows where the \"account\" column has the specified value\n",
    "filtered_df = df_new.filter(df_new.amount != value_to_remove)\n",
    "\n",
    "# Calculate summary statistics with one decimal place\n",
    "summary = filtered_df.summary()\n",
    "\n",
    "summary = summary.select(\n",
    "    summary['summary'],\n",
    "    #format_number(summary['transaction_type'].cast('double'), 1).alias('transaction_type'),\n",
    "    format_number(summary['amount'].cast('double'), 1).alias('amount'),\n",
    "    format_number(summary['oldbalanceorg'].cast('double'), 1).alias('oldbalanceorg'),\n",
    "    format_number(summary['newbalanceorig'].cast('double'), 1).alias('newbalanceorig'),\n",
    "    format_number(summary['oldbalancedest'].cast('double'), 1).alias('oldbalancedest'),\n",
    "    format_number(summary['newbalancedest'].cast('double'), 1).alias('newbalancedest'),\n",
    "    #format_number(summary['isfraud'].cast('double'), 1).alias('isfraud')\n",
    ")\n",
    "\n",
    "summary.show()\n",
    "\n",
    "# Round the \"amount\" column to a specified number of decimal places (e.g., 2)\n",
    "#rounded_df = df.withColumn(\"rounded_amount\", round(\"amount\", 2))\n"
   ]
  },
  {
   "cell_type": "code",
   "execution_count": 24,
   "metadata": {},
   "outputs": [
    {
     "name": "stdout",
     "output_type": "stream",
     "text": [
      "The column does not have any null values.\n",
      "0\n"
     ]
    }
   ],
   "source": [
    "# Check if the specified column has null values\n",
    "null_count = filtered_df.filter(col('amount').isNull()).count()\n",
    "\n",
    "# Print the result\n",
    "if null_count > 0:\n",
    "    print(f\"The column has null values.\")\n",
    "    print(null_count)\n",
    "else:\n",
    "    print(f\"The column does not have any null values.\")\n",
    "    print(null_count)"
   ]
  },
  {
   "cell_type": "code",
   "execution_count": 33,
   "metadata": {},
   "outputs": [
    {
     "name": "stdout",
     "output_type": "stream",
     "text": [
      "The column 'newbalancedest' has 2 values that are not float or integer.\n"
     ]
    }
   ],
   "source": [
    "# Specify the column you want to analyze\n",
    "column_to_check = \"newbalancedest\"\n",
    "\n",
    "# Check if the specified column has values that are not float or integer\n",
    "non_float_or_integer_count = filtered_df.filter(\n",
    "    col(column_to_check).cast(\"double\").isNull() &\n",
    "    (col(column_to_check).cast(\"string\") != \"\")\n",
    ").count()\n",
    "\n",
    "# Print the result\n",
    "if non_float_or_integer_count > 0:\n",
    "    print(f\"The column '{column_to_check}' has {non_float_or_integer_count} values that are not float or integer.\")\n",
    "else:\n",
    "    print(f\"The column '{column_to_check}' does not have any values that are not float or integer.\")"
   ]
  },
  {
   "cell_type": "code",
   "execution_count": null,
   "metadata": {},
   "outputs": [],
   "source": [
    "# Calculate summary statistics with one decimal place\n",
    "summary = filtered_df.summary()\n",
    "\n",
    "summary = summary.select(\n",
    "    summary['summary'],\n",
    "    #format_number(summary['transaction_type'].cast('double'), 1).alias('transaction_type'),\n",
    "    format_number(summary['amount'].cast('double'), 1).alias('amount'),\n",
    "    format_number(summary['oldbalanceorg'].cast('double'), 1).alias('oldbalanceorg'),\n",
    "    format_number(summary['newbalanceorig'].cast('double'), 1).alias('newbalanceorig'),\n",
    "    format_number(summary['oldbalancedest'].cast('double'), 1).alias('oldbalancedest'),\n",
    "    format_number(summary['newbalancedest'].cast('double'), 1).alias('newbalancedest'),\n",
    "    #format_number(summary['isfraud'].cast('double'), 1).alias('isfraud')\n",
    ")\n",
    "\n",
    "summary.show()"
   ]
  },
  {
   "cell_type": "code",
   "execution_count": 10,
   "metadata": {},
   "outputs": [
    {
     "name": "stdout",
     "output_type": "stream",
     "text": [
      "Column 'transaction_type' has data type 'string'\n",
      "Column 'amount' has data type 'string'\n",
      "Column 'oldbalanceorg' has data type 'string'\n",
      "Column 'newbalanceorig' has data type 'string'\n",
      "Column 'oldbalancedest' has data type 'string'\n",
      "Column 'newbalancedest' has data type 'string'\n",
      "Column 'isfraud' has data type 'string'\n"
     ]
    }
   ],
   "source": [
    "# Check the data types of each column\n",
    "column_data_types = filtered_df.dtypes\n",
    "\n",
    "# Print the data types\n",
    "for column, data_type in column_data_types:\n",
    "    print(f\"Column '{column}' has data type '{data_type}'\")"
   ]
  },
  {
   "cell_type": "code",
   "execution_count": null,
   "metadata": {},
   "outputs": [],
   "source": []
  },
  {
   "cell_type": "markdown",
   "metadata": {},
   "source": [
    "## Feature Engineering"
   ]
  },
  {
   "cell_type": "markdown",
   "metadata": {},
   "source": [
    "#Null Values\n",
    "#Imputation Techniques \n",
    "#Scale the data\n",
    "#One Hot Encoding\n",
    "#Techniques to balance the data (Oversampling and Undersampling Techniques)"
   ]
  },
  {
   "cell_type": "markdown",
   "metadata": {},
   "source": [
    "## MODELING"
   ]
  },
  {
   "cell_type": "markdown",
   "metadata": {},
   "source": [
    "#Split the dataset into training and testing\n",
    "#Logistic regression, 2 Ensemble techniques (Randon Forest and XGBoost)\n"
   ]
  },
  {
   "cell_type": "markdown",
   "metadata": {},
   "source": [
    "## EVALUATION"
   ]
  },
  {
   "cell_type": "markdown",
   "metadata": {},
   "source": [
    "#Accuracy\n",
    "#Recall\n",
    "#Precision\n",
    "#F1 Score\n",
    "#AUC-ROC"
   ]
  }
 ],
 "metadata": {
  "kernelspec": {
   "display_name": "Python 3",
   "language": "python",
   "name": "python3"
  },
  "language_info": {
   "codemirror_mode": {
    "name": "ipython",
    "version": 3
   },
   "file_extension": ".py",
   "mimetype": "text/x-python",
   "name": "python",
   "nbconvert_exporter": "python",
   "pygments_lexer": "ipython3",
   "version": "3.6.8"
  }
 },
 "nbformat": 4,
 "nbformat_minor": 2
}
