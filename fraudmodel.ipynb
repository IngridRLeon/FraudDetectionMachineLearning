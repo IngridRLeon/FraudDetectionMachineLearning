{
 "cells": [
  {
   "cell_type": "code",
   "execution_count": 18,
   "metadata": {},
   "outputs": [],
   "source": [
    "from pyspark.sql import SparkSession\n",
    "\n",
    "from pyspark.sql.functions import monotonically_increasing_id, col, format_number, round, stddev, mean, expr, corr, lit, expr, format_string\n",
    "import matplotlib.pyplot as plt\n",
    "\n",
    "import seaborn as sns  # Import seaborn for density plots\n",
    "from scipy import stats  # Import scipy for Q-Q plot\n",
    "from pyspark.sql.types import FloatType, DoubleType, IntegerType\n",
    "\n",
    "from pyspark.ml.feature import OneHotEncoder, StringIndexer\n",
    "\n",
    "\n",
    "from pyspark.sql.functions import udf\n",
    "from pyspark.ml.linalg import DenseVector\n",
    "from pyspark.sql.types import DoubleType\n",
    "\n",
    "from pyspark.ml.feature import VectorAssembler\n",
    "from pyspark.ml.classification import LogisticRegression, RandomForestClassifier\n",
    "from pyspark.ml.evaluation import MulticlassClassificationEvaluator, BinaryClassificationEvaluator\n",
    "from pyspark.ml import Pipeline"
   ]
  },
  {
   "cell_type": "markdown",
   "metadata": {},
   "source": [
    "## SPARK SESSION"
   ]
  },
  {
   "cell_type": "code",
   "execution_count": 2,
   "metadata": {},
   "outputs": [],
   "source": [
    "spark = SparkSession.builder.appName(\"sparkhive\").enableHiveSupport().getOrCreate()"
   ]
  },
  {
   "cell_type": "markdown",
   "metadata": {},
   "source": [
    "## Data Extraction from Hive"
   ]
  },
  {
   "cell_type": "code",
   "execution_count": 3,
   "metadata": {},
   "outputs": [],
   "source": [
    "df = spark.sql(\"SELECT * FROM fraud_project.fraud_full_load_external\")"
   ]
  },
  {
   "cell_type": "code",
   "execution_count": 4,
   "metadata": {},
   "outputs": [
    {
     "name": "stdout",
     "output_type": "stream",
     "text": [
      "+----+--------+---------+-----------+-------------+--------------+-----------+--------------+--------------+-------+--------------+------+\n",
      "|step|    type|   amount|   nameOrig|oldbalanceOrg|newbalanceOrig|   nameDest|oldbalanceDest|newbalanceDest|isFraud|isFlaggedFraud|row_id|\n",
      "+----+--------+---------+-----------+-------------+--------------+-----------+--------------+--------------+-------+--------------+------+\n",
      "|  34|CASH_OUT| 15035.83| C396303562|          0.0|           0.0|C1361864867|    4551466.66|    4435198.72|      0|             0|     1|\n",
      "|  34|CASH_OUT|288516.18| C535294249|          0.0|           0.0| C605769476|    3065350.68|    3315415.14|      0|             0|     2|\n",
      "|  34|CASH_OUT|  57806.2| C446804712|          0.0|           0.0| C402952734|     918389.84|     976196.04|      0|             0|     3|\n",
      "|  34|CASH_OUT| 154163.0|C1878410600|          0.0|           0.0| C102932163|    1986039.03|    2140202.04|      0|             0|     4|\n",
      "|  34|CASH_OUT|348094.59|   C6319376|          0.0|           0.0|C1059263116|    1760686.51|     2108781.1|      0|             0|     5|\n",
      "|  34|CASH_OUT| 168081.1| C548321932|          0.0|           0.0|C2139511035|     559033.74|     727114.83|      0|             0|     6|\n",
      "|  34|CASH_OUT|319238.71| C932145795|          0.0|           0.0|C1530913957|     595177.34|     914416.05|      0|             0|     7|\n",
      "|  34|CASH_OUT|208345.23|C1779409951|          0.0|           0.0|C2052185144|    3998322.36|    4345070.64|      0|             0|     8|\n",
      "|  34|CASH_OUT|355535.21|C1761893539|          0.0|           0.0|C2129007823|     854120.54|    1209655.75|      0|             0|     9|\n",
      "|  34|CASH_OUT|300083.51|C1017897429|          0.0|           0.0| C770274916|    4119182.64|    4855521.93|      0|             0|    10|\n",
      "|  34|CASH_OUT|113767.42|C1891389361|          0.0|           0.0|C1989504869|     271326.77|     385094.19|      0|             0|    11|\n",
      "|  34| PAYMENT| 10615.05|C1728324325|     105381.0|      94765.95| M741247970|           0.0|           0.0|      0|             0|    12|\n",
      "|  34| PAYMENT|   451.12|C1340633851|      82112.0|      81660.88|M1564175728|           0.0|           0.0|      0|             0|    13|\n",
      "|  34| PAYMENT| 31301.22| C460222264|       1027.0|           0.0|M1137153580|           0.0|           0.0|      0|             0|    14|\n",
      "|  34| PAYMENT| 16809.05|C1328827141|      29933.0|      13123.95|M1231220606|           0.0|           0.0|      0|             0|    15|\n",
      "|  34|TRANSFER|446211.47| C563957445|     13123.95|           0.0|C1135875085|    1136798.87|    1583010.34|      0|             0|    16|\n",
      "|  34| PAYMENT| 17740.17|C1586809388|      21547.0|       3806.83| M865455768|           0.0|           0.0|      0|             0|    17|\n",
      "|  34| PAYMENT| 33012.63|C1834143371|      3806.83|           0.0| M645029506|           0.0|           0.0|      0|             0|    18|\n",
      "|  34| PAYMENT|  22763.3|C1582249418|     501775.0|      479011.7|M1127465365|           0.0|           0.0|      0|             0|    19|\n",
      "|  34|CASH_OUT|168208.53| C946764270|     105664.0|           0.0|C1532327195|     570646.64|     738855.17|      0|             0|    20|\n",
      "+----+--------+---------+-----------+-------------+--------------+-----------+--------------+--------------+-------+--------------+------+\n",
      "only showing top 20 rows\n",
      "\n"
     ]
    }
   ],
   "source": [
    "df.show()"
   ]
  },
  {
   "cell_type": "code",
   "execution_count": 5,
   "metadata": {},
   "outputs": [
    {
     "name": "stdout",
     "output_type": "stream",
     "text": [
      "Null count in 'step': 0\n",
      "Null count in 'type': 0\n",
      "Null count in 'amount': 0\n",
      "Null count in 'nameOrig': 0\n",
      "Null count in 'oldbalanceOrg': 0\n",
      "Null count in 'newbalanceOrig': 0\n",
      "Null count in 'nameDest': 0\n",
      "Null count in 'oldbalanceDest': 0\n",
      "Null count in 'newbalanceDest': 0\n",
      "Null count in 'isFraud': 0\n",
      "Null count in 'isFlaggedFraud': 0\n",
      "Null count in 'row_id': 0\n"
     ]
    }
   ],
   "source": [
    "#Checking for null values\n",
    "columns = df.columns\n",
    "\n",
    "# Count null values for each column\n",
    "null_counts_per_column = [df.where(col(c).isNull()).count() for c in columns]\n",
    "\n",
    "# Display the null counts for each column\n",
    "for col_name, null_count in zip(columns, null_counts_per_column):\n",
    "    print(f\"Null count in '{col_name}': {null_count}\")\n",
    "    \n",
    "\n",
    "    \n",
    "# # Display null values for one specific column\n",
    "# null_count = filtered_df.filter(col('amount').isNull()).count()\n",
    "\n",
    "# # Print the result\n",
    "# if null_count > 0:\n",
    "#     print(f\"The column has null values.\")\n",
    "#     print(null_count)\n",
    "# else:\n",
    "#     print(f\"The column does not have any null values.\")\n",
    "#     print(null_count)"
   ]
  },
  {
   "cell_type": "code",
   "execution_count": 13,
   "metadata": {},
   "outputs": [],
   "source": [
    "#Adding an incremental id to keep tranck of the transactions\n",
    "#df = df.withColumn(\"id\", monotonically_increasing_id())"
   ]
  },
  {
   "cell_type": "code",
   "execution_count": 6,
   "metadata": {},
   "outputs": [
    {
     "name": "stdout",
     "output_type": "stream",
     "text": [
      "+------+--------+---------+-------------+--------------+--------------+--------------+-------+\n",
      "|row_id|    type|   amount|oldbalanceorg|newbalanceorig|oldbalancedest|newbalancedest|isfraud|\n",
      "+------+--------+---------+-------------+--------------+--------------+--------------+-------+\n",
      "|     1|CASH_OUT| 15035.83|          0.0|           0.0|    4551466.66|    4435198.72|      0|\n",
      "|     2|CASH_OUT|288516.18|          0.0|           0.0|    3065350.68|    3315415.14|      0|\n",
      "|     3|CASH_OUT|  57806.2|          0.0|           0.0|     918389.84|     976196.04|      0|\n",
      "|     4|CASH_OUT| 154163.0|          0.0|           0.0|    1986039.03|    2140202.04|      0|\n",
      "|     5|CASH_OUT|348094.59|          0.0|           0.0|    1760686.51|     2108781.1|      0|\n",
      "|     6|CASH_OUT| 168081.1|          0.0|           0.0|     559033.74|     727114.83|      0|\n",
      "|     7|CASH_OUT|319238.71|          0.0|           0.0|     595177.34|     914416.05|      0|\n",
      "|     8|CASH_OUT|208345.23|          0.0|           0.0|    3998322.36|    4345070.64|      0|\n",
      "|     9|CASH_OUT|355535.21|          0.0|           0.0|     854120.54|    1209655.75|      0|\n",
      "|    10|CASH_OUT|300083.51|          0.0|           0.0|    4119182.64|    4855521.93|      0|\n",
      "|    11|CASH_OUT|113767.42|          0.0|           0.0|     271326.77|     385094.19|      0|\n",
      "|    12| PAYMENT| 10615.05|     105381.0|      94765.95|           0.0|           0.0|      0|\n",
      "|    13| PAYMENT|   451.12|      82112.0|      81660.88|           0.0|           0.0|      0|\n",
      "|    14| PAYMENT| 31301.22|       1027.0|           0.0|           0.0|           0.0|      0|\n",
      "|    15| PAYMENT| 16809.05|      29933.0|      13123.95|           0.0|           0.0|      0|\n",
      "|    16|TRANSFER|446211.47|     13123.95|           0.0|    1136798.87|    1583010.34|      0|\n",
      "|    17| PAYMENT| 17740.17|      21547.0|       3806.83|           0.0|           0.0|      0|\n",
      "|    18| PAYMENT| 33012.63|      3806.83|           0.0|           0.0|           0.0|      0|\n",
      "|    19| PAYMENT|  22763.3|     501775.0|      479011.7|           0.0|           0.0|      0|\n",
      "|    20|CASH_OUT|168208.53|     105664.0|           0.0|     570646.64|     738855.17|      0|\n",
      "+------+--------+---------+-------------+--------------+--------------+--------------+-------+\n",
      "only showing top 20 rows\n",
      "\n"
     ]
    }
   ],
   "source": [
    "#Selecting the features that we will be using in our model\n",
    "selected_columns = [\"row_id\",\"type\",\"amount\", \"oldbalanceorg\", \"newbalanceorig\", \"oldbalancedest\", \"newbalancedest\", \"isfraud\"]\n",
    "df_new = df.select(*selected_columns)\n",
    "df_new.show()\n",
    "\n",
    "#Dropping the columns that we won't be using\n",
    "#columns_to_drop=[\"step\", \"nameOrig\", \"nameDest\", \"isFlaggedFraud\", \"row_id\"]\n",
    "#df_new=df.drop(*columns_to_drop)\n",
    "#df_new.show()"
   ]
  },
  {
   "cell_type": "code",
   "execution_count": 27,
   "metadata": {},
   "outputs": [
    {
     "name": "stdout",
     "output_type": "stream",
     "text": [
      "root\n",
      " |-- row_id: integer (nullable = true)\n",
      " |-- type: string (nullable = true)\n",
      " |-- amount: double (nullable = true)\n",
      " |-- oldbalanceorg: double (nullable = true)\n",
      " |-- newbalanceorig: double (nullable = true)\n",
      " |-- oldbalancedest: double (nullable = true)\n",
      " |-- newbalancedest: double (nullable = true)\n",
      " |-- isfraud: long (nullable = true)\n",
      "\n"
     ]
    }
   ],
   "source": [
    "#Visualizing the types of each columns #1\n",
    "df_new.printSchema()"
   ]
  },
  {
   "cell_type": "code",
   "execution_count": 28,
   "metadata": {},
   "outputs": [],
   "source": [
    "#Name of columns, name of rows\n",
    "#num_columns = len(df_new.columns)\n",
    "#num_rows= df_new.count()"
   ]
  },
  {
   "cell_type": "code",
   "execution_count": 29,
   "metadata": {},
   "outputs": [],
   "source": [
    "################\n",
    "#Visualizing the types of each columns #2\n",
    "#column_data_types = selected_df.dtypes\n",
    "\n",
    "# Print the data types\n",
    "#for column, data_type in column_data_types:\n",
    "    #print(f\"Column '{column}' has data type '{data_type}'\")\n",
    "\n",
    "#####################\n",
    "#Filtering Values in case we need it\n",
    "#Specify the value you want to filter out\n",
    "#value_to_remove = \"1.0E7\" \n",
    "# Remove rows where the \"amount\" column has the specified value\n",
    "#filtered_df = df_new.filter(df_new.amount != value_to_remove)\n",
    "\n",
    "#################\n",
    "#Modify the types of certain columns\n",
    "# #Define the columns you want to modify\n",
    "# int_column = \"isfraud\"\n",
    "# float_columns = [\"amount\", \"oldbalanceorg\", \"newbalanceorig\", \"oldbalancedest\", \"newbalancedest\"]\n",
    "\n",
    "# # Cast the \"isfraud\" column to IntegerType\n",
    "# filtered_df = filtered_df.withColumn(int_column, col(int_column).cast(IntegerType()))\n",
    "\n",
    "# # Cast the remaining columns to FloatType\n",
    "# for column in float_columns:\n",
    "#     filtered_df = filtered_df.withColumn(column, col(column).cast(FloatType()"
   ]
  },
  {
   "cell_type": "code",
   "execution_count": 30,
   "metadata": {},
   "outputs": [],
   "source": [
    "# # Specify the column you want to analyze\n",
    "# column_to_check = \"amount\"\n",
    "\n",
    "# # Check if the specified column has values that are not float or integer and count them\n",
    "# non_float_or_integer_count = df_new.filter(\n",
    "#     col(column_to_check).cast(\"double\").isNull() &\n",
    "#     (col(column_to_check).cast(\"string\") != \"\")\n",
    "# ).count()\n",
    "\n",
    "# # Print the result\n",
    "# if non_float_or_integer_count > 0:\n",
    "#     print(f\"The column '{column_to_check}' has {non_float_or_integer_count} values that are not float or integer.\")\n",
    "# else:\n",
    "#     print(f\"The column '{column_to_check}' does not have any values that are not float or integer.\")"
   ]
  },
  {
   "cell_type": "code",
   "execution_count": 31,
   "metadata": {},
   "outputs": [],
   "source": [
    "# # Check if the specified column has values that are not float or integer and show the rows\n",
    "# non_float_or_integer_rows  = filtered_df.filter(\n",
    "#     col(column_to_check).cast(\"double\").isNull() &\n",
    "#     (col(column_to_check).cast(\"string\") != \"\")\n",
    "# )\n",
    "\n",
    "# # Show the rows with non-float or non-integer values\n",
    "# non_float_or_integer_rows.show()"
   ]
  },
  {
   "cell_type": "code",
   "execution_count": 32,
   "metadata": {},
   "outputs": [],
   "source": [
    "# # Filter out the rows with non-float or non-integer values\n",
    "# filtered_df = filtered_df.filter(\n",
    "#     col(column_to_check).cast(\"double\").isNotNull() |\n",
    "#     (col(column_to_check).cast(\"string\") == \"\")\n",
    "# )\n",
    "\n",
    "# # Check the DataFrame after removing the rows\n",
    "# filtered_df.show()"
   ]
  },
  {
   "cell_type": "markdown",
   "metadata": {},
   "source": [
    "## Exploratory Data Analysis (EDA)"
   ]
  },
  {
   "cell_type": "markdown",
   "metadata": {},
   "source": [
    "#Statistical Analysis\n",
    "#Plot some feature distributions\n",
    "#Correlation Matrix"
   ]
  },
  {
   "cell_type": "code",
   "execution_count": 22,
   "metadata": {},
   "outputs": [
    {
     "name": "stdout",
     "output_type": "stream",
     "text": [
      "+-------+---------+-------------+--------------+--------------+--------------+\n",
      "|summary|   amount|oldbalanceorg|newbalanceorig|oldbalancedest|newbalancedest|\n",
      "+-------+---------+-------------+--------------+--------------+--------------+\n",
      "|  count|   5000.0|       5000.0|        5000.0|        5000.0|        5000.0|\n",
      "|   mean| 175702.8|     845801.4|      865365.0|     1023092.2|     1167171.3|\n",
      "| stddev| 279428.1|    3361683.9|     3393366.5|     2485877.8|     2581171.6|\n",
      "|    min|     23.6|          0.0|           0.0|           0.0|           0.0|\n",
      "|    25%|  15484.2|          0.0|           0.0|           0.0|           0.0|\n",
      "|    50%|  88781.7|      11313.0|           0.0|      130922.7|      254481.4|\n",
      "|    75%| 233861.6|     103143.0|      137299.7|      918569.3|     1199213.8|\n",
      "|    max|4780975.4|   28519744.9|    28591377.0|    36487842.2|    36553673.1|\n",
      "+-------+---------+-------------+--------------+--------------+--------------+\n",
      "\n"
     ]
    }
   ],
   "source": [
    "# Calculate summary statistics with one decimal place\n",
    "summary = df_new.summary()\n",
    "\n",
    "summary = summary.select(\n",
    "    summary['summary'],\n",
    "    format_string('%.1f', summary['amount'].cast('double')).alias('amount'),\n",
    "    format_string('%.1f', summary['oldbalanceorg'].cast('double')).alias('oldbalanceorg'),\n",
    "    format_string('%.1f', summary['newbalanceorig'].cast('double')).alias('newbalanceorig'),\n",
    "    format_string('%.1f', summary['oldbalancedest'].cast('double')).alias('oldbalancedest'),\n",
    "    format_string('%.1f', summary['newbalancedest'].cast('double')).alias('newbalancedest')\n",
    ")\n",
    "\n",
    "summary.show()\n",
    "\n",
    "# # Calculate summary statistics with one decimal place #2nd way\n",
    "# summary = df_new.summary()\n",
    "\n",
    "# summary = summary.select(\n",
    "#     summary['summary'],\n",
    "#     #format_number(summary['transaction_type'].cast('double'), 1).alias('transaction_type'),\n",
    "#     format_number(summary['amount'].cast('double'), 1).alias('amount'),\n",
    "#     format_number(summary['oldbalanceorg'].cast('double'), 1).alias('oldbalanceorg'),\n",
    "#     format_number(summary['newbalanceorig'].cast('double'), 1).alias('newbalanceorig'),\n",
    "#     format_number(summary['oldbalancedest'].cast('double'), 1).alias('oldbalancedest'),\n",
    "#     format_number(summary['newbalancedest'].cast('double'), 1).alias('newbalancedest'),\n",
    "#     #format_number(summary['isfraud'].cast('double'), 1).alias('isfraud')\n",
    "# )\n",
    "\n",
    "# summary.show()"
   ]
  },
  {
   "cell_type": "code",
   "execution_count": 34,
   "metadata": {},
   "outputs": [
    {
     "data": {
      "image/png": "[encoded data removed]",
      "text/plain": [
       "<Figure size 576x432 with 1 Axes>"
      ]
     },
     "metadata": {
      "needs_background": "light"
     },
     "output_type": "display_data"
    },
    {
     "data": {
      "image/png": "[encoded data removed]",
      "text/plain": [
       "<Figure size 576x432 with 1 Axes>"
      ]
     },
     "metadata": {
      "needs_background": "light"
     },
     "output_type": "display_data"
    }
   ],
   "source": [
    "#Feature Distribution\n",
    "# Select the columns to plot\n",
    "columns_to_plot = [\"type\", \"isfraud\"]\n",
    "\n",
    "# Create histograms for each categorical column\n",
    "for column in columns_to_plot:\n",
    "    # Extract the column and convert it to a Pandas DataFrame for plotting\n",
    "    column_data = df_new.select(column).toPandas()\n",
    "\n",
    "    # Plot the histogram\n",
    "    plt.figure(figsize=(8, 6))\n",
    "    plt.hist(column_data[column], bins=20, color='blue', alpha=0.7)\n",
    "    plt.title(f'Distribution of {column}')\n",
    "    plt.xlabel(column)\n",
    "    plt.ylabel('Frequency')\n",
    "    plt.grid(True)\n",
    "    plt.show()"
   ]
  },
  {
   "cell_type": "code",
   "execution_count": 36,
   "metadata": {},
   "outputs": [
    {
     "data": {
      "image/png": "[encoded data removed]",
      "text/plain": [
       "<Figure size 864x2160 with 5 Axes>"
      ]
     },
     "metadata": {
      "needs_background": "light"
     },
     "output_type": "display_data"
    }
   ],
   "source": [
    "# Select the continuous columns to plot\n",
    "continuous_columns = [\"amount\", \"oldbalanceorg\", \"newbalanceorig\", \"oldbalancedest\", \"newbalancedest\"]\n",
    "\n",
    "# Create a single figure to hold all the subplots\n",
    "fig, axes = plt.subplots(nrows=len(continuous_columns), ncols=1, figsize=(12, 6 * len(continuous_columns)))\n",
    "\n",
    "# Create density plots and Q-Q plots for each continuous column\n",
    "for i, column in enumerate(continuous_columns):\n",
    "    # Cast the column to a numeric type (e.g., double) before plotting\n",
    "    column_data = df_new.select(col(column).cast(\"double\")).toPandas()\n",
    "\n",
    "    # Plot the density plot\n",
    "    ax = axes[i]\n",
    "    sns.histplot(column_data[column], ax=ax, kde=True, color='blue')\n",
    "    ax.set_title(f'Density Plot of {column}')\n",
    "    ax.set_xlabel(column)\n",
    "    ax.set_ylabel('Density')\n",
    "\n",
    "# Adjust the layout and display all subplots together\n",
    "plt.tight_layout()\n",
    "plt.show()"
   ]
  },
  {
   "cell_type": "code",
   "execution_count": 37,
   "metadata": {},
   "outputs": [
    {
     "data": {
      "image/png": "[encoded data removed]",
      "text/plain": [
       "<Figure size 1152x432 with 5 Axes>"
      ]
     },
     "metadata": {
      "needs_background": "light"
     },
     "output_type": "display_data"
    }
   ],
   "source": [
    "# Create a single figure for all the density plots\n",
    "fig, axes = plt.subplots(nrows=1, ncols=len(continuous_columns), figsize=(16, 6))\n",
    "\n",
    "# Create density plots for each continuous column\n",
    "for i, column in enumerate(continuous_columns):\n",
    "    # Extract the column and convert it to a Pandas DataFrame for plotting\n",
    "    column_data = df_new.select(col(column).cast(\"double\")).toPandas()\n",
    "\n",
    "    # Create a density plot\n",
    "    ax = axes[i]\n",
    "    sns.histplot(column_data[column], ax=ax, kde=True, color='blue', stat='density')\n",
    "    ax.set_title(f'Density Plot of {column}')\n",
    "    ax.set_xlabel(column)\n",
    "    ax.set_ylabel('Density (Percentage)')  # Update the y-axis label\n",
    "\n",
    "# Adjust the layout and display all density plots together\n",
    "plt.tight_layout()\n",
    "plt.show()"
   ]
  },
  {
   "cell_type": "code",
   "execution_count": 38,
   "metadata": {},
   "outputs": [
    {
     "name": "stderr",
     "output_type": "stream",
     "text": [
      "/home/ec2-user/.local/lib/python3.6/site-packages/seaborn/_core.py:1326: UserWarning: Vertical orientation ignored with only `x` specified.\n",
      "  warnings.warn(single_var_warning.format(\"Vertical\", \"x\"))\n",
      "/home/ec2-user/.local/lib/python3.6/site-packages/seaborn/_core.py:1326: UserWarning: Vertical orientation ignored with only `x` specified.\n",
      "  warnings.warn(single_var_warning.format(\"Vertical\", \"x\"))\n",
      "/home/ec2-user/.local/lib/python3.6/site-packages/seaborn/_core.py:1326: UserWarning: Vertical orientation ignored with only `x` specified.\n",
      "  warnings.warn(single_var_warning.format(\"Vertical\", \"x\"))\n",
      "/home/ec2-user/.local/lib/python3.6/site-packages/seaborn/_core.py:1326: UserWarning: Vertical orientation ignored with only `x` specified.\n",
      "  warnings.warn(single_var_warning.format(\"Vertical\", \"x\"))\n",
      "/home/ec2-user/.local/lib/python3.6/site-packages/seaborn/_core.py:1326: UserWarning: Vertical orientation ignored with only `x` specified.\n",
      "  warnings.warn(single_var_warning.format(\"Vertical\", \"x\"))\n"
     ]
    },
    {
     "data": {
      "image/png": "[encoded data removed]",
      "text/plain": [
       "<Figure size 1152x432 with 5 Axes>"
      ]
     },
     "metadata": {
      "needs_background": "light"
     },
     "output_type": "display_data"
    }
   ],
   "source": [
    "# Create a single figure for all the boxplots\n",
    "fig, axes = plt.subplots(nrows=1, ncols=len(continuous_columns), figsize=(16, 6))\n",
    "\n",
    "# Create boxplots for each continuous column\n",
    "for i, column in enumerate(continuous_columns):\n",
    "    # Extract the column and convert it to a Pandas DataFrame for plotting\n",
    "    column_data = df_new.select(col(column).cast(\"double\")).toPandas()\n",
    "\n",
    "    # Create a boxplot\n",
    "    ax = axes[i]\n",
    "    sns.boxplot(x=column_data[column], ax=ax, orient=\"vertical\", color='blue')\n",
    "    ax.set_title(f'Boxplot of {column}')\n",
    "    ax.set_xlabel(column)\n",
    "\n",
    "# Adjust the layout and display all boxplots together\n",
    "plt.tight_layout()\n",
    "plt.show()"
   ]
  },
  {
   "cell_type": "code",
   "execution_count": 39,
   "metadata": {},
   "outputs": [],
   "source": [
    "# #Correlaction Matrix\n",
    "\n",
    "# # Select the columns for which you want to calculate the correlation\n",
    "# selected_columns = [\"amount\", \"oldbalanceorg\", \"newbalanceorig\", \"oldbalancedest\", \"newbalancedest\", \"isfraud\"]\n",
    "\n",
    "# # Ensure all selected columns are cast to FloatType (numeric type)\n",
    "# numeric_columns = [col(column).cast(FloatType()).alias(column) for column in selected_columns]\n",
    "\n",
    "# # Initialize an empty correlation matrix\n",
    "# correlation_matrix = []\n",
    "\n",
    "# # Calculate correlations between pairs of columns\n",
    "# for column1 in selected_columns:\n",
    "#     row = []\n",
    "#     for column2 in selected_columns:\n",
    "#         correlation = filtered_df.stat.corr(column1, column2)\n",
    "#         row.append(correlation)\n",
    "#     correlation_matrix.append(row)\n",
    "\n",
    "# # Create a DataFrame from the correlation matrix\n",
    "# correlation_df = spark.createDataFrame(correlation_matrix, selected_columns)\n",
    "\n",
    "# # Display the correlation matrix\n",
    "# correlation_df.show()"
   ]
  },
  {
   "cell_type": "markdown",
   "metadata": {},
   "source": [
    "## Feature Engineering"
   ]
  },
  {
   "cell_type": "markdown",
   "metadata": {},
   "source": [
    "#Null Values\n",
    "#Imputation Techniques \n",
    "#Scale the data\n",
    "#One Hot Encoding\n",
    "#Techniques to balance the data (Oversampling and Undersampling Techniques)"
   ]
  },
  {
   "cell_type": "code",
   "execution_count": 41,
   "metadata": {},
   "outputs": [
    {
     "name": "stdout",
     "output_type": "stream",
     "text": [
      "+--------+-------------+\n",
      "|    type| encoded_type|\n",
      "+--------+-------------+\n",
      "|CASH_OUT|(4,[0],[1.0])|\n",
      "|CASH_OUT|(4,[0],[1.0])|\n",
      "|CASH_OUT|(4,[0],[1.0])|\n",
      "|CASH_OUT|(4,[0],[1.0])|\n",
      "|CASH_OUT|(4,[0],[1.0])|\n",
      "|CASH_OUT|(4,[0],[1.0])|\n",
      "|CASH_OUT|(4,[0],[1.0])|\n",
      "|CASH_OUT|(4,[0],[1.0])|\n",
      "|CASH_OUT|(4,[0],[1.0])|\n",
      "|CASH_OUT|(4,[0],[1.0])|\n",
      "|CASH_OUT|(4,[0],[1.0])|\n",
      "| PAYMENT|(4,[1],[1.0])|\n",
      "| PAYMENT|(4,[1],[1.0])|\n",
      "| PAYMENT|(4,[1],[1.0])|\n",
      "| PAYMENT|(4,[1],[1.0])|\n",
      "|TRANSFER|(4,[3],[1.0])|\n",
      "| PAYMENT|(4,[1],[1.0])|\n",
      "| PAYMENT|(4,[1],[1.0])|\n",
      "| PAYMENT|(4,[1],[1.0])|\n",
      "|CASH_OUT|(4,[0],[1.0])|\n",
      "+--------+-------------+\n",
      "only showing top 20 rows\n",
      "\n"
     ]
    }
   ],
   "source": [
    "#Applying some one hot encoding\n",
    "# Define the column you want to encode\n",
    "categorical_column = \"type\"\n",
    "\n",
    "# Step 1: StringIndexer to convert categorical values to numerical indices\n",
    "indexer = StringIndexer(inputCol=categorical_column, outputCol=\"categoryIndex\")\n",
    "\n",
    "# Fit and transform the indexer on your DataFrame\n",
    "indexed_df = indexer.fit(df_new).transform(df_new)\n",
    "\n",
    "# Step 2: OneHotEncoder to perform one-hot encoding\n",
    "encoder = OneHotEncoder(inputCol=\"categoryIndex\", outputCol=\"encoded_\" + categorical_column)\n",
    "\n",
    "# Fit and transform the encoder on your DataFrame\n",
    "encoded_df = encoder.transform(indexed_df)\n",
    "\n",
    "# Show the resulting DataFrame with one-hot encoding\n",
    "encoded_df.select(categorical_column, \"encoded_\" + categorical_column).show()"
   ]
  },
  {
   "cell_type": "code",
   "execution_count": 42,
   "metadata": {},
   "outputs": [
    {
     "name": "stdout",
     "output_type": "stream",
     "text": [
      "+------+--------+---------+-------------+--------------+--------------+--------------+-------+-------------+-------------+\n",
      "|row_id|    type|   amount|oldbalanceorg|newbalanceorig|oldbalancedest|newbalancedest|isfraud|categoryIndex| encoded_type|\n",
      "+------+--------+---------+-------------+--------------+--------------+--------------+-------+-------------+-------------+\n",
      "|     1|CASH_OUT| 15035.83|          0.0|           0.0|    4551466.66|    4435198.72|      0|          0.0|(4,[0],[1.0])|\n",
      "|     2|CASH_OUT|288516.18|          0.0|           0.0|    3065350.68|    3315415.14|      0|          0.0|(4,[0],[1.0])|\n",
      "|     3|CASH_OUT|  57806.2|          0.0|           0.0|     918389.84|     976196.04|      0|          0.0|(4,[0],[1.0])|\n",
      "|     4|CASH_OUT| 154163.0|          0.0|           0.0|    1986039.03|    2140202.04|      0|          0.0|(4,[0],[1.0])|\n",
      "|     5|CASH_OUT|348094.59|          0.0|           0.0|    1760686.51|     2108781.1|      0|          0.0|(4,[0],[1.0])|\n",
      "|     6|CASH_OUT| 168081.1|          0.0|           0.0|     559033.74|     727114.83|      0|          0.0|(4,[0],[1.0])|\n",
      "|     7|CASH_OUT|319238.71|          0.0|           0.0|     595177.34|     914416.05|      0|          0.0|(4,[0],[1.0])|\n",
      "|     8|CASH_OUT|208345.23|          0.0|           0.0|    3998322.36|    4345070.64|      0|          0.0|(4,[0],[1.0])|\n",
      "|     9|CASH_OUT|355535.21|          0.0|           0.0|     854120.54|    1209655.75|      0|          0.0|(4,[0],[1.0])|\n",
      "|    10|CASH_OUT|300083.51|          0.0|           0.0|    4119182.64|    4855521.93|      0|          0.0|(4,[0],[1.0])|\n",
      "|    11|CASH_OUT|113767.42|          0.0|           0.0|     271326.77|     385094.19|      0|          0.0|(4,[0],[1.0])|\n",
      "|    12| PAYMENT| 10615.05|     105381.0|      94765.95|           0.0|           0.0|      0|          1.0|(4,[1],[1.0])|\n",
      "|    13| PAYMENT|   451.12|      82112.0|      81660.88|           0.0|           0.0|      0|          1.0|(4,[1],[1.0])|\n",
      "|    14| PAYMENT| 31301.22|       1027.0|           0.0|           0.0|           0.0|      0|          1.0|(4,[1],[1.0])|\n",
      "|    15| PAYMENT| 16809.05|      29933.0|      13123.95|           0.0|           0.0|      0|          1.0|(4,[1],[1.0])|\n",
      "|    16|TRANSFER|446211.47|     13123.95|           0.0|    1136798.87|    1583010.34|      0|          3.0|(4,[3],[1.0])|\n",
      "|    17| PAYMENT| 17740.17|      21547.0|       3806.83|           0.0|           0.0|      0|          1.0|(4,[1],[1.0])|\n",
      "|    18| PAYMENT| 33012.63|      3806.83|           0.0|           0.0|           0.0|      0|          1.0|(4,[1],[1.0])|\n",
      "|    19| PAYMENT|  22763.3|     501775.0|      479011.7|           0.0|           0.0|      0|          1.0|(4,[1],[1.0])|\n",
      "|    20|CASH_OUT|168208.53|     105664.0|           0.0|     570646.64|     738855.17|      0|          0.0|(4,[0],[1.0])|\n",
      "+------+--------+---------+-------------+--------------+--------------+--------------+-------+-------------+-------------+\n",
      "only showing top 20 rows\n",
      "\n"
     ]
    }
   ],
   "source": [
    "# Show the entire DataFrame (adjust the number as needed)\n",
    "encoded_df.show()"
   ]
  },
  {
   "cell_type": "code",
   "execution_count": 49,
   "metadata": {},
   "outputs": [
    {
     "name": "stdout",
     "output_type": "stream",
     "text": [
      "+------+---------+-------------+--------------+--------------+--------------+-------+-------------+\n",
      "|row_id|   amount|oldbalanceorg|newbalanceorig|oldbalancedest|newbalancedest|isfraud| encoded_type|\n",
      "+------+---------+-------------+--------------+--------------+--------------+-------+-------------+\n",
      "|     1| 15035.83|          0.0|           0.0|    4551466.66|    4435198.72|      0|(4,[0],[1.0])|\n",
      "|     2|288516.18|          0.0|           0.0|    3065350.68|    3315415.14|      0|(4,[0],[1.0])|\n",
      "|     3|  57806.2|          0.0|           0.0|     918389.84|     976196.04|      0|(4,[0],[1.0])|\n",
      "|     4| 154163.0|          0.0|           0.0|    1986039.03|    2140202.04|      0|(4,[0],[1.0])|\n",
      "|     5|348094.59|          0.0|           0.0|    1760686.51|     2108781.1|      0|(4,[0],[1.0])|\n",
      "|     6| 168081.1|          0.0|           0.0|     559033.74|     727114.83|      0|(4,[0],[1.0])|\n",
      "|     7|319238.71|          0.0|           0.0|     595177.34|     914416.05|      0|(4,[0],[1.0])|\n",
      "|     8|208345.23|          0.0|           0.0|    3998322.36|    4345070.64|      0|(4,[0],[1.0])|\n",
      "|     9|355535.21|          0.0|           0.0|     854120.54|    1209655.75|      0|(4,[0],[1.0])|\n",
      "|    10|300083.51|          0.0|           0.0|    4119182.64|    4855521.93|      0|(4,[0],[1.0])|\n",
      "|    11|113767.42|          0.0|           0.0|     271326.77|     385094.19|      0|(4,[0],[1.0])|\n",
      "|    12| 10615.05|     105381.0|      94765.95|           0.0|           0.0|      0|(4,[1],[1.0])|\n",
      "|    13|   451.12|      82112.0|      81660.88|           0.0|           0.0|      0|(4,[1],[1.0])|\n",
      "|    14| 31301.22|       1027.0|           0.0|           0.0|           0.0|      0|(4,[1],[1.0])|\n",
      "|    15| 16809.05|      29933.0|      13123.95|           0.0|           0.0|      0|(4,[1],[1.0])|\n",
      "|    16|446211.47|     13123.95|           0.0|    1136798.87|    1583010.34|      0|(4,[3],[1.0])|\n",
      "|    17| 17740.17|      21547.0|       3806.83|           0.0|           0.0|      0|(4,[1],[1.0])|\n",
      "|    18| 33012.63|      3806.83|           0.0|           0.0|           0.0|      0|(4,[1],[1.0])|\n",
      "|    19|  22763.3|     501775.0|      479011.7|           0.0|           0.0|      0|(4,[1],[1.0])|\n",
      "|    20|168208.53|     105664.0|           0.0|     570646.64|     738855.17|      0|(4,[0],[1.0])|\n",
      "+------+---------+-------------+--------------+--------------+--------------+-------+-------------+\n",
      "only showing top 20 rows\n",
      "\n"
     ]
    }
   ],
   "source": [
    "# Drop the \"transaction_type\" column\n",
    "encoded_df = encoded_df.drop(\"type\")\n",
    "encoded_df = encoded_df.drop(\"categoryIndex\")\n",
    "encoded_df.show()"
   ]
  },
  {
   "cell_type": "code",
   "execution_count": 50,
   "metadata": {},
   "outputs": [
    {
     "name": "stdout",
     "output_type": "stream",
     "text": [
      "root\n",
      " |-- row_id: integer (nullable = true)\n",
      " |-- amount: double (nullable = true)\n",
      " |-- oldbalanceorg: double (nullable = true)\n",
      " |-- newbalanceorig: double (nullable = true)\n",
      " |-- oldbalancedest: double (nullable = true)\n",
      " |-- newbalancedest: double (nullable = true)\n",
      " |-- isfraud: long (nullable = true)\n",
      " |-- encoded_type: vector (nullable = true)\n",
      "\n"
     ]
    }
   ],
   "source": [
    "encoded_df.printSchema()"
   ]
  },
  {
   "cell_type": "code",
   "execution_count": 51,
   "metadata": {},
   "outputs": [
    {
     "name": "stdout",
     "output_type": "stream",
     "text": [
      "+-------+-----+\n",
      "|isfraud|count|\n",
      "+-------+-----+\n",
      "|      0| 4998|\n",
      "|      1|    2|\n",
      "+-------+-----+\n",
      "\n",
      "Percentage of Fraud Samples: 0.04%\n",
      "Percentage of Non-Fraud Samples: 99.96%\n"
     ]
    }
   ],
   "source": [
    "#Check how balanced is the data\n",
    "class_counts = encoded_df.groupBy(\"isfraud\").count()\n",
    "\n",
    "# Show the class counts\n",
    "class_counts.show()\n",
    "\n",
    "# Count the total number of samples\n",
    "total_count = encoded_df.count()\n",
    "\n",
    "# Calculate the percentage of fraud samples\n",
    "fraud_percentage = (encoded_df.filter(col(\"isfraud\") == 1).count() / total_count) * 100.0\n",
    "\n",
    "# Calculate the percentage of non-fraud samples\n",
    "non_fraud_percentage = (encoded_df.filter(col(\"isfraud\") == 0).count() / total_count) * 100.0\n",
    "\n",
    "# Print the percentages\n",
    "print(f\"Percentage of Fraud Samples: {fraud_percentage:.2f}%\")\n",
    "print(f\"Percentage of Non-Fraud Samples: {non_fraud_percentage:.2f}%\")"
   ]
  },
  {
   "cell_type": "code",
   "execution_count": null,
   "metadata": {},
   "outputs": [],
   "source": [
    "#Apply Oversampling or Undersampling Techniques "
   ]
  },
  {
   "cell_type": "code",
   "execution_count": null,
   "metadata": {},
   "outputs": [],
   "source": []
  },
  {
   "cell_type": "markdown",
   "metadata": {},
   "source": [
    "## MODELING"
   ]
  },
  {
   "cell_type": "markdown",
   "metadata": {},
   "source": [
    "#Split the dataset into training and testing\n",
    "#Logistic regression, 2 Ensemble techniques (Randon Forest and XGBoost)\n"
   ]
  },
  {
   "cell_type": "code",
   "execution_count": 52,
   "metadata": {},
   "outputs": [],
   "source": [
    "#Split the data into training and testing\n",
    "# Define the feature columns (excluding the target column \"isfraud\")\n",
    "feature_columns = [col for col in encoded_df.columns if col != \"isfraud\"]\n",
    "\n",
    "# Assemble feature vector\n",
    "assembler = VectorAssembler(inputCols=feature_columns, outputCol=\"features\")\n",
    "assembled_df = assembler.transform(encoded_df)\n",
    "\n",
    "# Split the data into training and testing sets (80% for training, 20% for testing)\n",
    "train_df, test_df = assembled_df.randomSplit([0.8, 0.2], seed=42)"
   ]
  },
  {
   "cell_type": "code",
   "execution_count": 53,
   "metadata": {},
   "outputs": [],
   "source": [
    "#Logistic Regression and Random Forest\n",
    "\n",
    "# Define the models\n",
    "logistic_regression = LogisticRegression(featuresCol=\"features\", labelCol=\"isfraud\")\n",
    "random_forest = RandomForestClassifier(featuresCol=\"features\", labelCol=\"isfraud\")\n",
    "# You can define and add XGBoost here if it's available in your PySpark environment.\n",
    "\n",
    "# Create a list of models\n",
    "models = [logistic_regression, random_forest]"
   ]
  },
  {
   "cell_type": "code",
   "execution_count": null,
   "metadata": {},
   "outputs": [],
   "source": [
    "# # Create a list to store model evaluation results\n",
    "# results = []\n",
    "\n",
    "# # Train and evaluate each model\n",
    "# for model in models:\n",
    "#     # Train the model\n",
    "#     model_fit = model.fit(train_df)\n",
    "    \n",
    "#     # Make predictions on the test data\n",
    "#     predictions = model_fit.transform(test_df)\n",
    "    \n",
    "#     # Evaluate the model using MulticlassClassificationEvaluator\n",
    "#     evaluator = MulticlassClassificationEvaluator(labelCol=\"isfraud\", predictionCol=\"prediction\", metricName=\"accuracy\")\n",
    "#     accuracy = evaluator.evaluate(predictions)\n",
    "#     precision = evaluator.evaluate(predictions, {evaluator.metricName: \"weightedPrecision\"})\n",
    "#     recall = evaluator.evaluate(predictions, {evaluator.metricName: \"weightedRecall\"})\n",
    "    \n",
    "    \n",
    "#     results.append((model.__class__.__name__, accuracy, precision, recall))"
   ]
  },
  {
   "cell_type": "code",
   "execution_count": 59,
   "metadata": {},
   "outputs": [],
   "source": [
    "results = []\n",
    "\n",
    "# Train and evaluate each model\n",
    "for model in models:\n",
    "    # Train the model\n",
    "    model_fit = model.fit(train_df)\n",
    "    \n",
    "    # Make predictions on the test data\n",
    "    predictions = model_fit.transform(test_df)\n",
    "    \n",
    "    # Evaluate the model using BinaryClassificationEvaluator\n",
    "    binary_evaluator = BinaryClassificationEvaluator(labelCol=\"isfraud\")\n",
    "    multiclass_evaluator = MulticlassClassificationEvaluator(labelCol=\"isfraud\", metricName=\"accuracy\")\n",
    "    \n",
    "    # Calculate area under the ROC curve (AUC-ROC)\n",
    "    auc_roc = binary_evaluator.evaluate(predictions)\n",
    "    \n",
    "    # Calculate accuracy\n",
    "    accuracy = multiclass_evaluator.evaluate(predictions)\n",
    "    \n",
    "    # Calculate precision\n",
    "    true_positive = predictions.filter((col(\"isfraud\") == 1) & (col(\"prediction\") == 1)).count()\n",
    "    predicted_positive = predictions.filter(col(\"prediction\") == 1).count()\n",
    "    #precision = true_positive / predicted_positive\n",
    "    \n",
    "    # Calculate recall\n",
    "    actual_positive = predictions.filter(col(\"isfraud\") == 1).count()\n",
    "    recall = true_positive / actual_positive\n",
    "    #recall = multiclass_evaluator.evaluate(predictions)\n",
    "    \n",
    "    results.append((model.__class__.__name__, auc_roc, accuracy, recall))"
   ]
  },
  {
   "cell_type": "markdown",
   "metadata": {},
   "source": [
    "## EVALUATION"
   ]
  },
  {
   "cell_type": "markdown",
   "metadata": {},
   "source": [
    "#Accuracy\n",
    "#Recall\n",
    "#Precision\n",
    "#F1 Score\n",
    "#AUC-ROC"
   ]
  },
  {
   "cell_type": "code",
   "execution_count": 60,
   "metadata": {},
   "outputs": [
    {
     "name": "stdout",
     "output_type": "stream",
     "text": [
      "LogisticRegression:\n",
      "AUC-ROC = 0.99\n",
      "Accuracy = 1.00\n",
      "Recall = 0.00\n",
      "\n",
      "RandomForestClassifier:\n",
      "AUC-ROC = 1.00\n",
      "Accuracy = 1.00\n",
      "Recall = 0.00\n",
      "\n"
     ]
    }
   ],
   "source": [
    "# Print the evaluation results\n",
    "for model_name, auc_roc, accuracy, recall in results:\n",
    "    print(f\"{model_name}:\")\n",
    "    print(f\"AUC-ROC = {auc_roc:.2f}\")\n",
    "    print(f\"Accuracy = {accuracy:.2f}\")\n",
    "    #print(f\"Precision = {precision:.2f}\")\n",
    "    print(f\"Recall = {recall:.2f}\")\n",
    "    print()"
   ]
  },
  {
   "cell_type": "code",
   "execution_count": null,
   "metadata": {},
   "outputs": [],
   "source": []
  }
 ],
 "metadata": {
  "kernelspec": {
   "display_name": "Python 3",
   "language": "python",
   "name": "python3"
  },
  "language_info": {
   "codemirror_mode": {
    "name": "ipython",
    "version": 3
   },
   "file_extension": ".py",
   "mimetype": "text/x-python",
   "name": "python",
   "nbconvert_exporter": "python",
   "pygments_lexer": "ipython3",
   "version": "3.6.8"
  }
 },
 "nbformat": 4,
 "nbformat_minor": 2
}
