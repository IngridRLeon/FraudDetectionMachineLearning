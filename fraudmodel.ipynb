{
 "cells": [
  {
   "cell_type": "code",
   "execution_count": 47,
   "metadata": {},
   "outputs": [],
   "source": [
    "from pyspark.sql import SparkSession\n",
    "\n",
    "from pyspark.sql.functions import monotonically_increasing_id, col, format_number, round, stddev, mean, expr, corr, lit\n",
    "import matplotlib.pyplot as plt\n",
    "\n",
    "import seaborn as sns  # Import seaborn for density plots\n",
    "from scipy import stats  # Import scipy for Q-Q plot\n",
    "from pyspark.sql.types import FloatType, DoubleType, IntegerType\n",
    "\n",
    "from pyspark.ml.feature import OneHotEncoder, StringIndexer\n",
    "\n",
    "\n",
    "from pyspark.sql.functions import udf\n",
    "from pyspark.ml.linalg import DenseVector\n",
    "from pyspark.sql.types import DoubleType\n",
    "\n",
    "from pyspark.ml.feature import VectorAssembler\n",
    "from pyspark.ml.classification import LogisticRegression, RandomForestClassifier\n",
    "from pyspark.ml.evaluation import MulticlassClassificationEvaluator, BinaryClassificationEvaluator\n",
    "from pyspark.ml import Pipeline"
   ]
  },
  {
   "cell_type": "markdown",
   "metadata": {},
   "source": [
    "## SPARK SESSION"
   ]
  },
  {
   "cell_type": "code",
   "execution_count": 2,
   "metadata": {},
   "outputs": [],
   "source": [
    "spark = SparkSession.builder.appName(\"sparkhive\").enableHiveSupport().getOrCreate()"
   ]
  },
  {
   "cell_type": "markdown",
   "metadata": {},
   "source": [
    "## Data Extraction from Hive"
   ]
  },
  {
   "cell_type": "code",
   "execution_count": 3,
   "metadata": {},
   "outputs": [],
   "source": [
    "df = spark.sql(\"SELECT * FROM fraud_project.fraud_full_load_external\")"
   ]
  },
  {
   "cell_type": "code",
   "execution_count": 4,
   "metadata": {},
   "outputs": [],
   "source": [
    "#Adding an incremental id to keep tranck of the transactions\n",
    "df = df.withColumn(\"id\", monotonically_increasing_id())"
   ]
  },
  {
   "cell_type": "code",
   "execution_count": 5,
   "metadata": {},
   "outputs": [
    {
     "name": "stdout",
     "output_type": "stream",
     "text": [
      "+---+----------------+---------+-------------+--------------+--------------+--------------+-------+\n",
      "| id|transaction_type|   amount|oldbalanceorg|newbalanceorig|oldbalancedest|newbalancedest|isfraud|\n",
      "+---+----------------+---------+-------------+--------------+--------------+--------------+-------+\n",
      "|  0|            type|   amount|oldbalanceOrg|newbalanceOrig|oldbalanceDest|newbalanceDest|isFraud|\n",
      "|  1|         PAYMENT|  9839.64|     170136.0|     160296.36|           0.0|           0.0|      0|\n",
      "|  2|         PAYMENT|  1864.28|      21249.0|      19384.72|           0.0|           0.0|      0|\n",
      "|  3|        TRANSFER|    181.0|        181.0|           0.0|           0.0|           0.0|      1|\n",
      "|  4|        CASH_OUT|    181.0|        181.0|           0.0|       21182.0|           0.0|      1|\n",
      "|  5|         PAYMENT| 11668.14|      41554.0|      29885.86|           0.0|           0.0|      0|\n",
      "|  6|         PAYMENT|  7817.71|      53860.0|      46042.29|           0.0|           0.0|      0|\n",
      "|  7|         PAYMENT|  7107.77|     183195.0|     176087.23|           0.0|           0.0|      0|\n",
      "|  8|         PAYMENT|  7861.64|    176087.23|     168225.59|           0.0|           0.0|      0|\n",
      "|  9|         PAYMENT|  4024.36|       2671.0|           0.0|           0.0|           0.0|      0|\n",
      "| 10|           DEBIT|  5337.77|      41720.0|      36382.23|       41898.0|      40348.79|      0|\n",
      "| 11|           DEBIT|  9644.94|       4465.0|           0.0|       10845.0|     157982.12|      0|\n",
      "| 12|         PAYMENT|  3099.97|      20771.0|      17671.03|           0.0|           0.0|      0|\n",
      "| 13|         PAYMENT|  2560.74|       5070.0|       2509.26|           0.0|           0.0|      0|\n",
      "| 14|         PAYMENT| 11633.76|      10127.0|           0.0|           0.0|           0.0|      0|\n",
      "| 15|         PAYMENT|  4098.78|     503264.0|     499165.22|           0.0|           0.0|      0|\n",
      "| 16|        CASH_OUT|229133.94|      15325.0|           0.0|        5083.0|      51513.44|      0|\n",
      "| 17|         PAYMENT|  1563.82|        450.0|           0.0|           0.0|           0.0|      0|\n",
      "| 18|         PAYMENT|  1157.86|      21156.0|      19998.14|           0.0|           0.0|      0|\n",
      "| 19|         PAYMENT|   671.64|      15123.0|      14451.36|           0.0|           0.0|      0|\n",
      "+---+----------------+---------+-------------+--------------+--------------+--------------+-------+\n",
      "only showing top 20 rows\n",
      "\n"
     ]
    }
   ],
   "source": [
    "#Visualizing the features that we will be using in our model\n",
    "selected_columns = [\"id\",\"transaction_type\",\"amount\", \"oldbalanceorg\", \"newbalanceorig\", \"oldbalancedest\", \"newbalancedest\", \"isfraud\"]\n",
    "selected_df = df.select(*selected_columns)\n",
    "selected_df.show()"
   ]
  },
  {
   "cell_type": "code",
   "execution_count": null,
   "metadata": {},
   "outputs": [],
   "source": [
    "#num_columns = len(df.columns)\n"
   ]
  },
  {
   "cell_type": "markdown",
   "metadata": {},
   "source": [
    "## Exploratory Data Analysis (EDA)"
   ]
  },
  {
   "cell_type": "markdown",
   "metadata": {},
   "source": [
    "#Statistical Analysis\n",
    "#Plot some feature distributions\n",
    "#Correlation Matrix"
   ]
  },
  {
   "cell_type": "code",
   "execution_count": 6,
   "metadata": {},
   "outputs": [
    {
     "name": "stdout",
     "output_type": "stream",
     "text": [
      "+-------+---------+-------------+--------------+--------------+--------------+\n",
      "|summary|   amount|oldbalanceorg|newbalanceorig|oldbalancedest|newbalancedest|\n",
      "+-------+---------+-------------+--------------+--------------+--------------+\n",
      "|  count|  5,070.0|      5,070.0|       5,070.0|       5,070.0|       5,070.0|\n",
      "|   mean| 96,491.7|  1,024,118.8|   1,049,475.2|     906,199.2|   1,050,553.7|\n",
      "| stddev|225,373.4|  2,279,156.8|   2,330,085.8|   2,526,749.8|   2,903,139.7|\n",
      "|    min| 10,006.7|          0.0|           0.0|           0.0|           0.0|\n",
      "|    25%|  3,719.9|        574.0|           0.0|           0.0|           0.0|\n",
      "|    50%| 10,728.8|     26,165.3|      17,790.1|           0.0|           0.0|\n",
      "|    75%|107,292.2|    281,826.4|     281,759.5|     353,797.3|     265,092.4|\n",
      "|    max|     null|         null|          null|          null|          null|\n",
      "+-------+---------+-------------+--------------+--------------+--------------+\n",
      "\n"
     ]
    }
   ],
   "source": [
    "#Dropping the columns that we won't be using\n",
    "columns_to_drop=[\"step\", \"nameOrig\", \"nameDest\", \"isFlaggedFraud\", \"row_id\"]\n",
    "df_new=df.drop(*columns_to_drop)\n",
    "#df_new.show()\n",
    "\n",
    "# Specify the value you want to filter out\n",
    "value_to_remove = \"1.0E7\" \n",
    "\n",
    "# Remove rows where the \"amount\" column has the specified value\n",
    "filtered_df = df_new.filter(df_new.amount != value_to_remove)\n",
    "\n",
    "# Calculate summary statistics with one decimal place\n",
    "summary = filtered_df.summary()\n",
    "\n",
    "summary = summary.select(\n",
    "    summary['summary'],\n",
    "    #format_number(summary['transaction_type'].cast('double'), 1).alias('transaction_type'),\n",
    "    format_number(summary['amount'].cast('double'), 1).alias('amount'),\n",
    "    format_number(summary['oldbalanceorg'].cast('double'), 1).alias('oldbalanceorg'),\n",
    "    format_number(summary['newbalanceorig'].cast('double'), 1).alias('newbalanceorig'),\n",
    "    format_number(summary['oldbalancedest'].cast('double'), 1).alias('oldbalancedest'),\n",
    "    format_number(summary['newbalancedest'].cast('double'), 1).alias('newbalancedest'),\n",
    "    #format_number(summary['isfraud'].cast('double'), 1).alias('isfraud')\n",
    ")\n",
    "\n",
    "summary.show()\n",
    "\n"
   ]
  },
  {
   "cell_type": "code",
   "execution_count": null,
   "metadata": {},
   "outputs": [],
   "source": [
    "# # Check if the specified column has null values\n",
    "# null_count = filtered_df.filter(col('amount').isNull()).count()\n",
    "\n",
    "# # Print the result\n",
    "# if null_count > 0:\n",
    "#     print(f\"The column has null values.\")\n",
    "#     print(null_count)\n",
    "# else:\n",
    "#     print(f\"The column does not have any null values.\")\n",
    "#     print(null_count)"
   ]
  },
  {
   "cell_type": "code",
   "execution_count": 7,
   "metadata": {},
   "outputs": [
    {
     "name": "stdout",
     "output_type": "stream",
     "text": [
      "The column 'amount' has 2 values that are not float or integer.\n"
     ]
    }
   ],
   "source": [
    "# Specify the column you want to analyze\n",
    "column_to_check = \"amount\"\n",
    "\n",
    "# Check if the specified column has values that are not float or integer\n",
    "non_float_or_integer_count = filtered_df.filter(\n",
    "    col(column_to_check).cast(\"double\").isNull() &\n",
    "    (col(column_to_check).cast(\"string\") != \"\")\n",
    ").count()\n",
    "\n",
    "# Print the result\n",
    "if non_float_or_integer_count > 0:\n",
    "    print(f\"The column '{column_to_check}' has {non_float_or_integer_count} values that are not float or integer.\")\n",
    "else:\n",
    "    print(f\"The column '{column_to_check}' does not have any values that are not float or integer.\")\n",
    "    \n"
   ]
  },
  {
   "cell_type": "code",
   "execution_count": 8,
   "metadata": {},
   "outputs": [
    {
     "name": "stdout",
     "output_type": "stream",
     "text": [
      "+----------------+------+-------------+--------------+--------------+--------------+-------+----+\n",
      "|transaction_type|amount|oldbalanceorg|newbalanceorig|oldbalancedest|newbalancedest|isfraud|  id|\n",
      "+----------------+------+-------------+--------------+--------------+--------------+-------+----+\n",
      "|            type|amount|oldbalanceOrg|newbalanceOrig|oldbalanceDest|newbalanceDest|isFraud|   0|\n",
      "|            type|amount|oldbalanceOrg|newbalanceOrig|oldbalanceDest|newbalanceDest|isFraud|5001|\n",
      "+----------------+------+-------------+--------------+--------------+--------------+-------+----+\n",
      "\n"
     ]
    }
   ],
   "source": [
    "# Check if the specified column has values that are not float or integer\n",
    "non_float_or_integer_rows  = filtered_df.filter(\n",
    "    col(column_to_check).cast(\"double\").isNull() &\n",
    "    (col(column_to_check).cast(\"string\") != \"\")\n",
    ")\n",
    "\n",
    "# Show the rows with non-float or non-integer values\n",
    "non_float_or_integer_rows.show()"
   ]
  },
  {
   "cell_type": "code",
   "execution_count": 9,
   "metadata": {},
   "outputs": [
    {
     "name": "stdout",
     "output_type": "stream",
     "text": [
      "+----------------+---------+-------------+--------------+--------------+--------------+-------+---+\n",
      "|transaction_type|   amount|oldbalanceorg|newbalanceorig|oldbalancedest|newbalancedest|isfraud| id|\n",
      "+----------------+---------+-------------+--------------+--------------+--------------+-------+---+\n",
      "|         PAYMENT|  9839.64|     170136.0|     160296.36|           0.0|           0.0|      0|  1|\n",
      "|         PAYMENT|  1864.28|      21249.0|      19384.72|           0.0|           0.0|      0|  2|\n",
      "|        TRANSFER|    181.0|        181.0|           0.0|           0.0|           0.0|      1|  3|\n",
      "|        CASH_OUT|    181.0|        181.0|           0.0|       21182.0|           0.0|      1|  4|\n",
      "|         PAYMENT| 11668.14|      41554.0|      29885.86|           0.0|           0.0|      0|  5|\n",
      "|         PAYMENT|  7817.71|      53860.0|      46042.29|           0.0|           0.0|      0|  6|\n",
      "|         PAYMENT|  7107.77|     183195.0|     176087.23|           0.0|           0.0|      0|  7|\n",
      "|         PAYMENT|  7861.64|    176087.23|     168225.59|           0.0|           0.0|      0|  8|\n",
      "|         PAYMENT|  4024.36|       2671.0|           0.0|           0.0|           0.0|      0|  9|\n",
      "|           DEBIT|  5337.77|      41720.0|      36382.23|       41898.0|      40348.79|      0| 10|\n",
      "|           DEBIT|  9644.94|       4465.0|           0.0|       10845.0|     157982.12|      0| 11|\n",
      "|         PAYMENT|  3099.97|      20771.0|      17671.03|           0.0|           0.0|      0| 12|\n",
      "|         PAYMENT|  2560.74|       5070.0|       2509.26|           0.0|           0.0|      0| 13|\n",
      "|         PAYMENT| 11633.76|      10127.0|           0.0|           0.0|           0.0|      0| 14|\n",
      "|         PAYMENT|  4098.78|     503264.0|     499165.22|           0.0|           0.0|      0| 15|\n",
      "|        CASH_OUT|229133.94|      15325.0|           0.0|        5083.0|      51513.44|      0| 16|\n",
      "|         PAYMENT|  1563.82|        450.0|           0.0|           0.0|           0.0|      0| 17|\n",
      "|         PAYMENT|  1157.86|      21156.0|      19998.14|           0.0|           0.0|      0| 18|\n",
      "|         PAYMENT|   671.64|      15123.0|      14451.36|           0.0|           0.0|      0| 19|\n",
      "|        TRANSFER| 215310.3|        705.0|           0.0|       22425.0|           0.0|      0| 20|\n",
      "+----------------+---------+-------------+--------------+--------------+--------------+-------+---+\n",
      "only showing top 20 rows\n",
      "\n"
     ]
    }
   ],
   "source": [
    "# Filter out the rows with non-float or non-integer values\n",
    "filtered_df = filtered_df.filter(\n",
    "    col(column_to_check).cast(\"double\").isNotNull() |\n",
    "    (col(column_to_check).cast(\"string\") == \"\")\n",
    ")\n",
    "\n",
    "# Check the DataFrame after removing the rows\n",
    "filtered_df.show()"
   ]
  },
  {
   "cell_type": "code",
   "execution_count": 10,
   "metadata": {},
   "outputs": [
    {
     "name": "stdout",
     "output_type": "stream",
     "text": [
      "+-------+---------+-------------+--------------+--------------+--------------+\n",
      "|summary|   amount|oldbalanceorg|newbalanceorig|oldbalancedest|newbalancedest|\n",
      "+-------+---------+-------------+--------------+--------------+--------------+\n",
      "|  count|  5,068.0|      5,068.0|       5,068.0|       5,068.0|       5,068.0|\n",
      "|   mean| 96,491.7|  1,024,118.8|   1,049,475.2|     906,199.2|   1,050,553.7|\n",
      "| stddev|225,373.4|  2,279,156.8|   2,330,085.8|   2,526,749.8|   2,903,139.7|\n",
      "|    min| 10,006.7|          0.0|           0.0|           0.0|           0.0|\n",
      "|    25%|  3,719.9|        574.0|           0.0|           0.0|           0.0|\n",
      "|    50%| 10,728.8|     26,165.3|      17,790.1|           0.0|           0.0|\n",
      "|    75%|107,292.2|    281,826.4|     281,759.5|     353,797.3|     265,092.4|\n",
      "|    max|  9,980.3|     99,998.7|      99,998.7|   9,989,133.6|   9,989,133.6|\n",
      "+-------+---------+-------------+--------------+--------------+--------------+\n",
      "\n"
     ]
    }
   ],
   "source": [
    "# Calculate summary statistics with one decimal place\n",
    "summary = filtered_df.summary()\n",
    "\n",
    "summary = summary.select(\n",
    "    summary['summary'],\n",
    "    #format_number(summary['transaction_type'].cast('double'), 1).alias('transaction_type'),\n",
    "    format_number(summary['amount'].cast('double'), 1).alias('amount'),\n",
    "    format_number(summary['oldbalanceorg'].cast('double'), 1).alias('oldbalanceorg'),\n",
    "    format_number(summary['newbalanceorig'].cast('double'), 1).alias('newbalanceorig'),\n",
    "    format_number(summary['oldbalancedest'].cast('double'), 1).alias('oldbalancedest'),\n",
    "    format_number(summary['newbalancedest'].cast('double'), 1).alias('newbalancedest'),\n",
    "    #format_number(summary['isfraud'].cast('double'), 1).alias('isfraud')\n",
    ")\n",
    "\n",
    "summary.show()"
   ]
  },
  {
   "cell_type": "code",
   "execution_count": 12,
   "metadata": {},
   "outputs": [],
   "source": [
    "# # Check the data types of each column\n",
    "# column_data_types = filtered_df.dtypes\n",
    "\n",
    "# # Print the data types\n",
    "# for column, data_type in column_data_types:\n",
    "#     print(f\"Column '{column}' has data type '{data_type}'\")"
   ]
  },
  {
   "cell_type": "code",
   "execution_count": 13,
   "metadata": {},
   "outputs": [
    {
     "data": {
      "image/png": "[encoded data removed]",
      "text/plain": [
       "<Figure size 576x432 with 1 Axes>"
      ]
     },
     "metadata": {
      "needs_background": "light"
     },
     "output_type": "display_data"
    },
    {
     "data": {
      "image/png": "[encoded data removed]",
      "text/plain": [
       "<Figure size 576x432 with 1 Axes>"
      ]
     },
     "metadata": {
      "needs_background": "light"
     },
     "output_type": "display_data"
    }
   ],
   "source": [
    "#Feature Distribution\n",
    "# Select the columns to plot\n",
    "columns_to_plot = [\"transaction_type\", \"isfraud\"]\n",
    "\n",
    "# Create histograms for each categorical column\n",
    "for column in columns_to_plot:\n",
    "    # Extract the column and convert it to a Pandas DataFrame for plotting\n",
    "    column_data = filtered_df.select(column).toPandas()\n",
    "\n",
    "    # Plot the histogram\n",
    "    plt.figure(figsize=(8, 6))\n",
    "    plt.hist(column_data[column], bins=20, color='blue', alpha=0.7)\n",
    "    plt.title(f'Distribution of {column}')\n",
    "    plt.xlabel(column)\n",
    "    plt.ylabel('Frequency')\n",
    "    plt.grid(True)\n",
    "    plt.show()"
   ]
  },
  {
   "cell_type": "code",
   "execution_count": 14,
   "metadata": {},
   "outputs": [
    {
     "data": {
      "image/png": "[encoded data removed]",
      "text/plain": [
       "<Figure size 864x2160 with 5 Axes>"
      ]
     },
     "metadata": {
      "needs_background": "light"
     },
     "output_type": "display_data"
    }
   ],
   "source": [
    "# Select the continuous columns to plot\n",
    "continuous_columns = [\"amount\", \"oldbalanceorg\", \"newbalanceorig\", \"oldbalancedest\", \"newbalancedest\"]\n",
    "\n",
    "# Create a single figure to hold all the subplots\n",
    "fig, axes = plt.subplots(nrows=len(continuous_columns), ncols=1, figsize=(12, 6 * len(continuous_columns)))\n",
    "\n",
    "# Create density plots and Q-Q plots for each continuous column\n",
    "for i, column in enumerate(continuous_columns):\n",
    "    # Cast the column to a numeric type (e.g., double) before plotting\n",
    "    column_data = filtered_df.select(col(column).cast(\"double\")).toPandas()\n",
    "\n",
    "    # Plot the density plot\n",
    "    ax = axes[i]\n",
    "    sns.histplot(column_data[column], ax=ax, kde=True, color='blue')\n",
    "    ax.set_title(f'Density Plot of {column}')\n",
    "    ax.set_xlabel(column)\n",
    "    ax.set_ylabel('Density')\n",
    "\n",
    "    # Plot the Q-Q plot\n",
    "    #ax = axes[i, 1]\n",
    "    #stats.probplot(column_data[column], dist=\"norm\", plot=ax)\n",
    "    #ax.set_title(f'Q-Q Plot of {column}')\n",
    "\n",
    "# Adjust the layout and display all subplots together\n",
    "plt.tight_layout()\n",
    "plt.show()"
   ]
  },
  {
   "cell_type": "code",
   "execution_count": 15,
   "metadata": {},
   "outputs": [
    {
     "data": {
      "image/png": "[encoded data removed]",
      "text/plain": [
       "<Figure size 1152x432 with 5 Axes>"
      ]
     },
     "metadata": {
      "needs_background": "light"
     },
     "output_type": "display_data"
    }
   ],
   "source": [
    "# Create a single figure for all the density plots\n",
    "fig, axes = plt.subplots(nrows=1, ncols=len(continuous_columns), figsize=(16, 6))\n",
    "\n",
    "# Create density plots for each continuous column\n",
    "for i, column in enumerate(continuous_columns):\n",
    "    # Extract the column and convert it to a Pandas DataFrame for plotting\n",
    "    column_data = filtered_df.select(col(column).cast(\"double\")).toPandas()\n",
    "\n",
    "    # Create a density plot\n",
    "    ax = axes[i]\n",
    "    sns.histplot(column_data[column], ax=ax, kde=True, color='blue', stat='density')\n",
    "    ax.set_title(f'Density Plot of {column}')\n",
    "    ax.set_xlabel(column)\n",
    "    ax.set_ylabel('Density (Percentage)')  # Update the y-axis label\n",
    "\n",
    "# Adjust the layout and display all density plots together\n",
    "plt.tight_layout()\n",
    "plt.show()"
   ]
  },
  {
   "cell_type": "code",
   "execution_count": null,
   "metadata": {},
   "outputs": [],
   "source": [
    "# Create a single figure for all the boxplots\n",
    "fig, axes = plt.subplots(nrows=1, ncols=len(continuous_columns), figsize=(16, 6))\n",
    "\n",
    "# Create boxplots for each continuous column\n",
    "for i, column in enumerate(continuous_columns):\n",
    "    # Extract the column and convert it to a Pandas DataFrame for plotting\n",
    "    column_data = filtered_df.select(col(column).cast(\"double\")).toPandas()\n",
    "\n",
    "    # Create a boxplot\n",
    "    ax = axes[i]\n",
    "    sns.boxplot(x=column_data[column], ax=ax, orient=\"vertical\", color='blue')\n",
    "    ax.set_title(f'Boxplot of {column}')\n",
    "    ax.set_xlabel(column)\n",
    "\n",
    "# Adjust the layout and display all boxplots together\n",
    "plt.tight_layout()\n",
    "plt.show()"
   ]
  },
  {
   "cell_type": "code",
   "execution_count": null,
   "metadata": {},
   "outputs": [],
   "source": [
    "# #Correlaction Matrix\n",
    "\n",
    "# # Select the columns for which you want to calculate the correlation\n",
    "# selected_columns = [\"amount\", \"oldbalanceorg\", \"newbalanceorig\", \"oldbalancedest\", \"newbalancedest\", \"isfraud\"]\n",
    "\n",
    "# # Ensure all selected columns are cast to FloatType (numeric type)\n",
    "# numeric_columns = [col(column).cast(FloatType()).alias(column) for column in selected_columns]\n",
    "\n",
    "# # Initialize an empty correlation matrix\n",
    "# correlation_matrix = []\n",
    "\n",
    "# # Calculate correlations between pairs of columns\n",
    "# for column1 in selected_columns:\n",
    "#     row = []\n",
    "#     for column2 in selected_columns:\n",
    "#         correlation = filtered_df.stat.corr(column1, column2)\n",
    "#         row.append(correlation)\n",
    "#     correlation_matrix.append(row)\n",
    "\n",
    "# # Create a DataFrame from the correlation matrix\n",
    "# correlation_df = spark.createDataFrame(correlation_matrix, selected_columns)\n",
    "\n",
    "# # Display the correlation matrix\n",
    "# correlation_df.show()"
   ]
  },
  {
   "cell_type": "markdown",
   "metadata": {},
   "source": [
    "## Feature Engineering"
   ]
  },
  {
   "cell_type": "markdown",
   "metadata": {},
   "source": [
    "#Null Values\n",
    "#Imputation Techniques \n",
    "#Scale the data\n",
    "#One Hot Encoding\n",
    "#Techniques to balance the data (Oversampling and Undersampling Techniques)"
   ]
  },
  {
   "cell_type": "code",
   "execution_count": 16,
   "metadata": {},
   "outputs": [
    {
     "name": "stdout",
     "output_type": "stream",
     "text": [
      "The column does not have any null values.\n",
      "0\n"
     ]
    }
   ],
   "source": [
    "# Check if the specified column has null values\n",
    "null_count = filtered_df.filter(col('amount').isNull()).count()\n",
    "\n",
    "# Print the result\n",
    "if null_count > 0:\n",
    "    print(f\"The column has null values.\")\n",
    "    print(null_count)\n",
    "else:\n",
    "    print(f\"The column does not have any null values.\")\n",
    "    print(null_count)"
   ]
  },
  {
   "cell_type": "code",
   "execution_count": 17,
   "metadata": {},
   "outputs": [
    {
     "name": "stdout",
     "output_type": "stream",
     "text": [
      "Column 'transaction_type' has data type 'string'\n",
      "Column 'amount' has data type 'string'\n",
      "Column 'oldbalanceorg' has data type 'string'\n",
      "Column 'newbalanceorig' has data type 'string'\n",
      "Column 'oldbalancedest' has data type 'string'\n",
      "Column 'newbalancedest' has data type 'string'\n",
      "Column 'isfraud' has data type 'string'\n",
      "Column 'id' has data type 'bigint'\n"
     ]
    }
   ],
   "source": [
    "# Check the data types of each column\n",
    "column_data_types = filtered_df.dtypes\n",
    "\n",
    "# Print the data types\n",
    "for column, data_type in column_data_types:\n",
    "    print(f\"Column '{column}' has data type '{data_type}'\")"
   ]
  },
  {
   "cell_type": "code",
   "execution_count": 18,
   "metadata": {},
   "outputs": [
    {
     "name": "stdout",
     "output_type": "stream",
     "text": [
      "Column 'transaction_type' has data type 'string'\n",
      "Column 'amount' has data type 'float'\n",
      "Column 'oldbalanceorg' has data type 'float'\n",
      "Column 'newbalanceorig' has data type 'float'\n",
      "Column 'oldbalancedest' has data type 'float'\n",
      "Column 'newbalancedest' has data type 'float'\n",
      "Column 'isfraud' has data type 'int'\n",
      "Column 'id' has data type 'bigint'\n",
      "+----------------+---------+-------------+--------------+--------------+--------------+-------+---+\n",
      "|transaction_type|   amount|oldbalanceorg|newbalanceorig|oldbalancedest|newbalancedest|isfraud| id|\n",
      "+----------------+---------+-------------+--------------+--------------+--------------+-------+---+\n",
      "|         PAYMENT|  9839.64|     170136.0|     160296.36|           0.0|           0.0|      0|  1|\n",
      "|         PAYMENT|  1864.28|      21249.0|      19384.72|           0.0|           0.0|      0|  2|\n",
      "|        TRANSFER|    181.0|        181.0|           0.0|           0.0|           0.0|      1|  3|\n",
      "|        CASH_OUT|    181.0|        181.0|           0.0|       21182.0|           0.0|      1|  4|\n",
      "|         PAYMENT| 11668.14|      41554.0|      29885.86|           0.0|           0.0|      0|  5|\n",
      "|         PAYMENT|  7817.71|      53860.0|      46042.29|           0.0|           0.0|      0|  6|\n",
      "|         PAYMENT|  7107.77|     183195.0|     176087.23|           0.0|           0.0|      0|  7|\n",
      "|         PAYMENT|  7861.64|    176087.23|      168225.6|           0.0|           0.0|      0|  8|\n",
      "|         PAYMENT|  4024.36|       2671.0|           0.0|           0.0|           0.0|      0|  9|\n",
      "|           DEBIT|  5337.77|      41720.0|      36382.23|       41898.0|      40348.79|      0| 10|\n",
      "|           DEBIT|  9644.94|       4465.0|           0.0|       10845.0|     157982.12|      0| 11|\n",
      "|         PAYMENT|  3099.97|      20771.0|      17671.03|           0.0|           0.0|      0| 12|\n",
      "|         PAYMENT|  2560.74|       5070.0|       2509.26|           0.0|           0.0|      0| 13|\n",
      "|         PAYMENT| 11633.76|      10127.0|           0.0|           0.0|           0.0|      0| 14|\n",
      "|         PAYMENT|  4098.78|     503264.0|     499165.22|           0.0|           0.0|      0| 15|\n",
      "|        CASH_OUT|229133.94|      15325.0|           0.0|        5083.0|      51513.44|      0| 16|\n",
      "|         PAYMENT|  1563.82|        450.0|           0.0|           0.0|           0.0|      0| 17|\n",
      "|         PAYMENT|  1157.86|      21156.0|      19998.14|           0.0|           0.0|      0| 18|\n",
      "|         PAYMENT|   671.64|      15123.0|      14451.36|           0.0|           0.0|      0| 19|\n",
      "|        TRANSFER| 215310.3|        705.0|           0.0|       22425.0|           0.0|      0| 20|\n",
      "+----------------+---------+-------------+--------------+--------------+--------------+-------+---+\n",
      "only showing top 20 rows\n",
      "\n"
     ]
    }
   ],
   "source": [
    "# Define the columns you want to modify\n",
    "int_column = \"isfraud\"\n",
    "float_columns = [\"amount\", \"oldbalanceorg\", \"newbalanceorig\", \"oldbalancedest\", \"newbalancedest\"]\n",
    "\n",
    "# Cast the \"isfraud\" column to IntegerType\n",
    "filtered_df = filtered_df.withColumn(int_column, col(int_column).cast(IntegerType()))\n",
    "\n",
    "# Cast the remaining columns to FloatType\n",
    "for column in float_columns:\n",
    "    filtered_df = filtered_df.withColumn(column, col(column).cast(FloatType()))\n",
    "\n",
    "# Check the data types of each column\n",
    "column_data_types = filtered_df.dtypes\n",
    "\n",
    "# Print the data types\n",
    "for column, data_type in column_data_types:\n",
    "    print(f\"Column '{column}' has data type '{data_type}'\")\n",
    "\n",
    "# Show the resulting DataFrame\n",
    "filtered_df.show()"
   ]
  },
  {
   "cell_type": "code",
   "execution_count": null,
   "metadata": {},
   "outputs": [],
   "source": []
  },
  {
   "cell_type": "code",
   "execution_count": 19,
   "metadata": {},
   "outputs": [
    {
     "name": "stdout",
     "output_type": "stream",
     "text": [
      "+----------------+------------------------+\n",
      "|transaction_type|encoded_transaction_type|\n",
      "+----------------+------------------------+\n",
      "|         PAYMENT|           (4,[0],[1.0])|\n",
      "|         PAYMENT|           (4,[0],[1.0])|\n",
      "|        TRANSFER|           (4,[3],[1.0])|\n",
      "|        CASH_OUT|           (4,[2],[1.0])|\n",
      "|         PAYMENT|           (4,[0],[1.0])|\n",
      "|         PAYMENT|           (4,[0],[1.0])|\n",
      "|         PAYMENT|           (4,[0],[1.0])|\n",
      "|         PAYMENT|           (4,[0],[1.0])|\n",
      "|         PAYMENT|           (4,[0],[1.0])|\n",
      "|           DEBIT|               (4,[],[])|\n",
      "|           DEBIT|               (4,[],[])|\n",
      "|         PAYMENT|           (4,[0],[1.0])|\n",
      "|         PAYMENT|           (4,[0],[1.0])|\n",
      "|         PAYMENT|           (4,[0],[1.0])|\n",
      "|         PAYMENT|           (4,[0],[1.0])|\n",
      "|        CASH_OUT|           (4,[2],[1.0])|\n",
      "|         PAYMENT|           (4,[0],[1.0])|\n",
      "|         PAYMENT|           (4,[0],[1.0])|\n",
      "|         PAYMENT|           (4,[0],[1.0])|\n",
      "|        TRANSFER|           (4,[3],[1.0])|\n",
      "+----------------+------------------------+\n",
      "only showing top 20 rows\n",
      "\n"
     ]
    }
   ],
   "source": [
    "#Applying some one hot encoding\n",
    "# Define the column you want to encode\n",
    "categorical_column = \"transaction_type\"\n",
    "\n",
    "# Step 1: StringIndexer to convert categorical values to numerical indices\n",
    "indexer = StringIndexer(inputCol=categorical_column, outputCol=\"categoryIndex\")\n",
    "\n",
    "# Fit and transform the indexer on your DataFrame\n",
    "indexed_df = indexer.fit(filtered_df).transform(filtered_df)\n",
    "\n",
    "# Step 2: OneHotEncoder to perform one-hot encoding\n",
    "encoder = OneHotEncoder(inputCol=\"categoryIndex\", outputCol=\"encoded_\" + categorical_column)\n",
    "\n",
    "# Fit and transform the encoder on your DataFrame\n",
    "encoded_df = encoder.transform(indexed_df)\n",
    "\n",
    "# Show the resulting DataFrame with one-hot encoding\n",
    "encoded_df.select(categorical_column, \"encoded_\" + categorical_column).show()"
   ]
  },
  {
   "cell_type": "code",
   "execution_count": 22,
   "metadata": {},
   "outputs": [
    {
     "name": "stdout",
     "output_type": "stream",
     "text": [
      "+----------------+---------+-------------+--------------+--------------+--------------+-------+---+-------------+------------------------+\n",
      "|transaction_type|   amount|oldbalanceorg|newbalanceorig|oldbalancedest|newbalancedest|isfraud| id|categoryIndex|encoded_transaction_type|\n",
      "+----------------+---------+-------------+--------------+--------------+--------------+-------+---+-------------+------------------------+\n",
      "|         PAYMENT|  9839.64|     170136.0|     160296.36|           0.0|           0.0|      0|  1|          0.0|           (4,[0],[1.0])|\n",
      "|         PAYMENT|  1864.28|      21249.0|      19384.72|           0.0|           0.0|      0|  2|          0.0|           (4,[0],[1.0])|\n",
      "|        TRANSFER|    181.0|        181.0|           0.0|           0.0|           0.0|      1|  3|          3.0|           (4,[3],[1.0])|\n",
      "|        CASH_OUT|    181.0|        181.0|           0.0|       21182.0|           0.0|      1|  4|          2.0|           (4,[2],[1.0])|\n",
      "|         PAYMENT| 11668.14|      41554.0|      29885.86|           0.0|           0.0|      0|  5|          0.0|           (4,[0],[1.0])|\n",
      "|         PAYMENT|  7817.71|      53860.0|      46042.29|           0.0|           0.0|      0|  6|          0.0|           (4,[0],[1.0])|\n",
      "|         PAYMENT|  7107.77|     183195.0|     176087.23|           0.0|           0.0|      0|  7|          0.0|           (4,[0],[1.0])|\n",
      "|         PAYMENT|  7861.64|    176087.23|      168225.6|           0.0|           0.0|      0|  8|          0.0|           (4,[0],[1.0])|\n",
      "|         PAYMENT|  4024.36|       2671.0|           0.0|           0.0|           0.0|      0|  9|          0.0|           (4,[0],[1.0])|\n",
      "|           DEBIT|  5337.77|      41720.0|      36382.23|       41898.0|      40348.79|      0| 10|          4.0|               (4,[],[])|\n",
      "|           DEBIT|  9644.94|       4465.0|           0.0|       10845.0|     157982.12|      0| 11|          4.0|               (4,[],[])|\n",
      "|         PAYMENT|  3099.97|      20771.0|      17671.03|           0.0|           0.0|      0| 12|          0.0|           (4,[0],[1.0])|\n",
      "|         PAYMENT|  2560.74|       5070.0|       2509.26|           0.0|           0.0|      0| 13|          0.0|           (4,[0],[1.0])|\n",
      "|         PAYMENT| 11633.76|      10127.0|           0.0|           0.0|           0.0|      0| 14|          0.0|           (4,[0],[1.0])|\n",
      "|         PAYMENT|  4098.78|     503264.0|     499165.22|           0.0|           0.0|      0| 15|          0.0|           (4,[0],[1.0])|\n",
      "|        CASH_OUT|229133.94|      15325.0|           0.0|        5083.0|      51513.44|      0| 16|          2.0|           (4,[2],[1.0])|\n",
      "|         PAYMENT|  1563.82|        450.0|           0.0|           0.0|           0.0|      0| 17|          0.0|           (4,[0],[1.0])|\n",
      "|         PAYMENT|  1157.86|      21156.0|      19998.14|           0.0|           0.0|      0| 18|          0.0|           (4,[0],[1.0])|\n",
      "|         PAYMENT|   671.64|      15123.0|      14451.36|           0.0|           0.0|      0| 19|          0.0|           (4,[0],[1.0])|\n",
      "|        TRANSFER| 215310.3|        705.0|           0.0|       22425.0|           0.0|      0| 20|          3.0|           (4,[3],[1.0])|\n",
      "+----------------+---------+-------------+--------------+--------------+--------------+-------+---+-------------+------------------------+\n",
      "only showing top 20 rows\n",
      "\n"
     ]
    }
   ],
   "source": [
    "# Show the entire DataFrame (adjust the number as needed)\n",
    "encoded_df.show()"
   ]
  },
  {
   "cell_type": "code",
   "execution_count": 36,
   "metadata": {},
   "outputs": [
    {
     "name": "stdout",
     "output_type": "stream",
     "text": [
      "root\n",
      " |-- amount: float (nullable = true)\n",
      " |-- oldbalanceorg: float (nullable = true)\n",
      " |-- newbalanceorig: float (nullable = true)\n",
      " |-- oldbalancedest: float (nullable = true)\n",
      " |-- newbalancedest: float (nullable = true)\n",
      " |-- isfraud: integer (nullable = true)\n",
      " |-- encoded_transaction_type: vector (nullable = true)\n",
      "\n"
     ]
    }
   ],
   "source": [
    "encoded_df.printSchema()"
   ]
  },
  {
   "cell_type": "code",
   "execution_count": 35,
   "metadata": {},
   "outputs": [
    {
     "name": "stdout",
     "output_type": "stream",
     "text": [
      "+---------+-------------+--------------+--------------+--------------+-------+------------------------+\n",
      "|   amount|oldbalanceorg|newbalanceorig|oldbalancedest|newbalancedest|isfraud|encoded_transaction_type|\n",
      "+---------+-------------+--------------+--------------+--------------+-------+------------------------+\n",
      "|  9839.64|     170136.0|     160296.36|           0.0|           0.0|      0|           (4,[0],[1.0])|\n",
      "|  1864.28|      21249.0|      19384.72|           0.0|           0.0|      0|           (4,[0],[1.0])|\n",
      "|    181.0|        181.0|           0.0|           0.0|           0.0|      1|           (4,[3],[1.0])|\n",
      "|    181.0|        181.0|           0.0|       21182.0|           0.0|      1|           (4,[2],[1.0])|\n",
      "| 11668.14|      41554.0|      29885.86|           0.0|           0.0|      0|           (4,[0],[1.0])|\n",
      "|  7817.71|      53860.0|      46042.29|           0.0|           0.0|      0|           (4,[0],[1.0])|\n",
      "|  7107.77|     183195.0|     176087.23|           0.0|           0.0|      0|           (4,[0],[1.0])|\n",
      "|  7861.64|    176087.23|      168225.6|           0.0|           0.0|      0|           (4,[0],[1.0])|\n",
      "|  4024.36|       2671.0|           0.0|           0.0|           0.0|      0|           (4,[0],[1.0])|\n",
      "|  5337.77|      41720.0|      36382.23|       41898.0|      40348.79|      0|               (4,[],[])|\n",
      "|  9644.94|       4465.0|           0.0|       10845.0|     157982.12|      0|               (4,[],[])|\n",
      "|  3099.97|      20771.0|      17671.03|           0.0|           0.0|      0|           (4,[0],[1.0])|\n",
      "|  2560.74|       5070.0|       2509.26|           0.0|           0.0|      0|           (4,[0],[1.0])|\n",
      "| 11633.76|      10127.0|           0.0|           0.0|           0.0|      0|           (4,[0],[1.0])|\n",
      "|  4098.78|     503264.0|     499165.22|           0.0|           0.0|      0|           (4,[0],[1.0])|\n",
      "|229133.94|      15325.0|           0.0|        5083.0|      51513.44|      0|           (4,[2],[1.0])|\n",
      "|  1563.82|        450.0|           0.0|           0.0|           0.0|      0|           (4,[0],[1.0])|\n",
      "|  1157.86|      21156.0|      19998.14|           0.0|           0.0|      0|           (4,[0],[1.0])|\n",
      "|   671.64|      15123.0|      14451.36|           0.0|           0.0|      0|           (4,[0],[1.0])|\n",
      "| 215310.3|        705.0|           0.0|       22425.0|           0.0|      0|           (4,[3],[1.0])|\n",
      "+---------+-------------+--------------+--------------+--------------+-------+------------------------+\n",
      "only showing top 20 rows\n",
      "\n"
     ]
    }
   ],
   "source": [
    "# Drop the \"transaction_type\" column\n",
    "encoded_df = encoded_df.drop(\"transaction_type\")\n",
    "encoded_df = encoded_df.drop(\"categoryIndex\")\n",
    "encoded_df = encoded_df.drop(\"id\")\n",
    "encoded_df.show()"
   ]
  },
  {
   "cell_type": "code",
   "execution_count": 27,
   "metadata": {},
   "outputs": [
    {
     "name": "stdout",
     "output_type": "stream",
     "text": [
      "+-------+-----+\n",
      "|isfraud|count|\n",
      "+-------+-----+\n",
      "|      1|   40|\n",
      "|      0| 5028|\n",
      "+-------+-----+\n",
      "\n",
      "Percentage of Fraud Samples: 0.79%\n",
      "Percentage of Non-Fraud Samples: 99.21%\n"
     ]
    }
   ],
   "source": [
    "#Check how balanced is the data\n",
    "class_counts = encoded_df.groupBy(\"isfraud\").count()\n",
    "\n",
    "# Show the class counts\n",
    "class_counts.show()\n",
    "\n",
    "# Count the total number of samples\n",
    "total_count = encoded_df.count()\n",
    "\n",
    "# Calculate the percentage of fraud samples\n",
    "fraud_percentage = (encoded_df.filter(col(\"isfraud\") == 1).count() / total_count) * 100.0\n",
    "\n",
    "# Calculate the percentage of non-fraud samples\n",
    "non_fraud_percentage = (encoded_df.filter(col(\"isfraud\") == 0).count() / total_count) * 100.0\n",
    "\n",
    "# Print the percentages\n",
    "print(f\"Percentage of Fraud Samples: {fraud_percentage:.2f}%\")\n",
    "print(f\"Percentage of Non-Fraud Samples: {non_fraud_percentage:.2f}%\")"
   ]
  },
  {
   "cell_type": "code",
   "execution_count": null,
   "metadata": {},
   "outputs": [],
   "source": [
    "#Apply Oversampling or Undersampling Techniques "
   ]
  },
  {
   "cell_type": "markdown",
   "metadata": {},
   "source": [
    "## MODELING"
   ]
  },
  {
   "cell_type": "markdown",
   "metadata": {},
   "source": [
    "#Split the dataset into training and testing\n",
    "#Logistic regression, 2 Ensemble techniques (Randon Forest and XGBoost)\n"
   ]
  },
  {
   "cell_type": "code",
   "execution_count": 37,
   "metadata": {},
   "outputs": [],
   "source": [
    "#Split the data into training and testing\n",
    "# Define the feature columns (excluding the target column \"isfraud\")\n",
    "feature_columns = [col for col in encoded_df.columns if col != \"isfraud\"]\n",
    "\n",
    "# Assemble feature vector\n",
    "assembler = VectorAssembler(inputCols=feature_columns, outputCol=\"features\")\n",
    "assembled_df = assembler.transform(encoded_df)\n",
    "\n",
    "# Split the data into training and testing sets (80% for training, 20% for testing)\n",
    "train_df, test_df = assembled_df.randomSplit([0.8, 0.2], seed=42)"
   ]
  },
  {
   "cell_type": "code",
   "execution_count": 38,
   "metadata": {},
   "outputs": [
    {
     "data": {
      "text/plain": [
       "['amount',\n",
       " 'oldbalanceorg',\n",
       " 'newbalanceorig',\n",
       " 'oldbalancedest',\n",
       " 'newbalancedest',\n",
       " 'encoded_transaction_type']"
      ]
     },
     "execution_count": 38,
     "metadata": {},
     "output_type": "execute_result"
    }
   ],
   "source": [
    "feature_columns"
   ]
  },
  {
   "cell_type": "code",
   "execution_count": 39,
   "metadata": {},
   "outputs": [],
   "source": [
    "#Logistic Regression and Random Forest\n",
    "\n",
    "# Define the models\n",
    "logistic_regression = LogisticRegression(featuresCol=\"features\", labelCol=\"isfraud\")\n",
    "random_forest = RandomForestClassifier(featuresCol=\"features\", labelCol=\"isfraud\")\n",
    "# You can define and add XGBoost here if it's available in your PySpark environment.\n",
    "\n",
    "# Create a list of models\n",
    "models = [logistic_regression, random_forest]"
   ]
  },
  {
   "cell_type": "code",
   "execution_count": 45,
   "metadata": {},
   "outputs": [],
   "source": [
    "# Create a list to store model evaluation results\n",
    "results = []\n",
    "\n",
    "# Train and evaluate each model\n",
    "for model in models:\n",
    "    # Train the model\n",
    "    model_fit = model.fit(train_df)\n",
    "    \n",
    "    # Make predictions on the test data\n",
    "    predictions = model_fit.transform(test_df)\n",
    "    \n",
    "    # Evaluate the model using MulticlassClassificationEvaluator\n",
    "    evaluator = MulticlassClassificationEvaluator(labelCol=\"isfraud\", predictionCol=\"prediction\", metricName=\"accuracy\")\n",
    "    accuracy = evaluator.evaluate(predictions)\n",
    "    precision = evaluator.evaluate(predictions, {evaluator.metricName: \"weightedPrecision\"})\n",
    "    recall = evaluator.evaluate(predictions, {evaluator.metricName: \"weightedRecall\"})\n",
    "    \n",
    "    \n",
    "    results.append((model.__class__.__name__, accuracy, precision, recall))"
   ]
  },
  {
   "cell_type": "code",
   "execution_count": 54,
   "metadata": {},
   "outputs": [],
   "source": [
    "results = []\n",
    "\n",
    "# Train and evaluate each model\n",
    "for model in models:\n",
    "    # Train the model\n",
    "    model_fit = model.fit(train_df)\n",
    "    \n",
    "    # Make predictions on the test data\n",
    "    predictions = model_fit.transform(test_df)\n",
    "    \n",
    "    # Evaluate the model using BinaryClassificationEvaluator\n",
    "    binary_evaluator = BinaryClassificationEvaluator(labelCol=\"isfraud\")\n",
    "    multiclass_evaluator = MulticlassClassificationEvaluator(labelCol=\"isfraud\", metricName=\"accuracy\")\n",
    "    \n",
    "    # Calculate area under the ROC curve (AUC-ROC)\n",
    "    auc_roc = binary_evaluator.evaluate(predictions)\n",
    "    \n",
    "    # Calculate accuracy\n",
    "    accuracy = multiclass_evaluator.evaluate(predictions)\n",
    "    \n",
    "    # Calculate precision\n",
    "    true_positive = predictions.filter((col(\"isfraud\") == 1) & (col(\"prediction\") == 1)).count()\n",
    "    predicted_positive = predictions.filter(col(\"prediction\") == 1).count()\n",
    "    precision = true_positive / predicted_positive\n",
    "    \n",
    "    # Calculate recall\n",
    "    actual_positive = predictions.filter(col(\"isfraud\") == 1).count()\n",
    "    #recall = true_positive / actual_positive\n",
    "    recall = multiclass_evaluator.evaluate(predictions)\n",
    "    \n",
    "    results.append((model.__class__.__name__, auc_roc, accuracy, precision, recall))"
   ]
  },
  {
   "cell_type": "markdown",
   "metadata": {},
   "source": [
    "## EVALUATION"
   ]
  },
  {
   "cell_type": "markdown",
   "metadata": {},
   "source": [
    "#Accuracy\n",
    "#Recall\n",
    "#Precision\n",
    "#F1 Score\n",
    "#AUC-ROC"
   ]
  },
  {
   "cell_type": "code",
   "execution_count": 55,
   "metadata": {},
   "outputs": [
    {
     "name": "stdout",
     "output_type": "stream",
     "text": [
      "LogisticRegression:\n",
      "AUC-ROC = 0.98\n",
      "Accuracy = 1.00\n",
      "Precision = 1.00\n",
      "Recall = 1.00\n",
      "\n",
      "RandomForestClassifier:\n",
      "AUC-ROC = 0.99\n",
      "Accuracy = 0.99\n",
      "Precision = 1.00\n",
      "Recall = 0.99\n",
      "\n"
     ]
    }
   ],
   "source": [
    "# Print the evaluation results\n",
    "for model_name, auc_roc, accuracy, precision, recall in results:\n",
    "    print(f\"{model_name}:\")\n",
    "    print(f\"AUC-ROC = {auc_roc:.2f}\")\n",
    "    print(f\"Accuracy = {accuracy:.2f}\")\n",
    "    print(f\"Precision = {precision:.2f}\")\n",
    "    print(f\"Recall = {recall:.2f}\")\n",
    "    print()"
   ]
  },
  {
   "cell_type": "code",
   "execution_count": null,
   "metadata": {},
   "outputs": [],
   "source": []
  }
 ],
 "metadata": {
  "kernelspec": {
   "display_name": "Python 3",
   "language": "python",
   "name": "python3"
  },
  "language_info": {
   "codemirror_mode": {
    "name": "ipython",
    "version": 3
   },
   "file_extension": ".py",
   "mimetype": "text/x-python",
   "name": "python",
   "nbconvert_exporter": "python",
   "pygments_lexer": "ipython3",
   "version": "3.6.8"
  }
 },
 "nbformat": 4,
 "nbformat_minor": 2
}
